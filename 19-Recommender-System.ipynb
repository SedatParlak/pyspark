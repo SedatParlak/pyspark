{
 "cells": [
  {
   "cell_type": "markdown",
   "id": "e4b7094b",
   "metadata": {},
   "source": [
    "# Spark - Recommender System"
   ]
  },
  {
   "cell_type": "markdown",
   "id": "c83042f2",
   "metadata": {},
   "source": [
    "**Imports**"
   ]
  },
  {
   "cell_type": "code",
   "execution_count": 28,
   "id": "61296682",
   "metadata": {},
   "outputs": [],
   "source": [
    "import findspark\n",
    "findspark.init('/home/sedat/spark-3.3.2-bin-hadoop3')\n",
    "from pyspark.sql import SparkSession\n",
    "from pyspark.ml.recommendation import ALS\n",
    "from pyspark.ml.evaluation import RegressionEvaluator"
   ]
  },
  {
   "cell_type": "markdown",
   "id": "de31afbe",
   "metadata": {},
   "source": [
    "**Start spark session and read data**"
   ]
  },
  {
   "cell_type": "code",
   "execution_count": 7,
   "id": "809035fe",
   "metadata": {},
   "outputs": [],
   "source": [
    "spark = SparkSession.builder.appName('rec').getOrCreate()"
   ]
  },
  {
   "cell_type": "code",
   "execution_count": 10,
   "id": "6f718533",
   "metadata": {},
   "outputs": [],
   "source": [
    "df = spark.read.csv('movielens_ratings.csv', inferSchema=True, header=True)"
   ]
  },
  {
   "cell_type": "code",
   "execution_count": 11,
   "id": "7e3e67a9",
   "metadata": {},
   "outputs": [
    {
     "name": "stdout",
     "output_type": "stream",
     "text": [
      "+-------+------+------+\n",
      "|movieId|rating|userId|\n",
      "+-------+------+------+\n",
      "|      2|   3.0|     0|\n",
      "|      3|   1.0|     0|\n",
      "|      5|   2.0|     0|\n",
      "|      9|   4.0|     0|\n",
      "|     11|   1.0|     0|\n",
      "|     12|   2.0|     0|\n",
      "|     15|   1.0|     0|\n",
      "|     17|   1.0|     0|\n",
      "|     19|   1.0|     0|\n",
      "|     21|   1.0|     0|\n",
      "|     23|   1.0|     0|\n",
      "|     26|   3.0|     0|\n",
      "|     27|   1.0|     0|\n",
      "|     28|   1.0|     0|\n",
      "|     29|   1.0|     0|\n",
      "|     30|   1.0|     0|\n",
      "|     31|   1.0|     0|\n",
      "|     34|   1.0|     0|\n",
      "|     37|   1.0|     0|\n",
      "|     41|   2.0|     0|\n",
      "+-------+------+------+\n",
      "only showing top 20 rows\n",
      "\n"
     ]
    }
   ],
   "source": [
    "df.show()"
   ]
  },
  {
   "cell_type": "code",
   "execution_count": 12,
   "id": "13bc4926",
   "metadata": {},
   "outputs": [
    {
     "data": {
      "text/plain": [
       "1501"
      ]
     },
     "execution_count": 12,
     "metadata": {},
     "output_type": "execute_result"
    }
   ],
   "source": [
    "df.count()"
   ]
  },
  {
   "cell_type": "code",
   "execution_count": 13,
   "id": "cf9df383",
   "metadata": {},
   "outputs": [
    {
     "name": "stdout",
     "output_type": "stream",
     "text": [
      "+-------+------------------+------------------+------------------+\n",
      "|summary|           movieId|            rating|            userId|\n",
      "+-------+------------------+------------------+------------------+\n",
      "|  count|              1501|              1501|              1501|\n",
      "|   mean| 49.40572951365756|1.7741505662891406|14.383744170552964|\n",
      "| stddev|28.937034065088994| 1.187276166124803| 8.591040424293272|\n",
      "|    min|                 0|               1.0|                 0|\n",
      "|    max|                99|               5.0|                29|\n",
      "+-------+------------------+------------------+------------------+\n",
      "\n"
     ]
    }
   ],
   "source": [
    "df.describe().show()"
   ]
  },
  {
   "cell_type": "markdown",
   "id": "e1faea33",
   "metadata": {},
   "source": [
    "**Split data**"
   ]
  },
  {
   "cell_type": "code",
   "execution_count": 23,
   "id": "e1fe0e20",
   "metadata": {},
   "outputs": [],
   "source": [
    "train_df, test_df = df.randomSplit([0.8, 0.2])"
   ]
  },
  {
   "cell_type": "markdown",
   "id": "b2cf021c",
   "metadata": {},
   "source": [
    "**Model**"
   ]
  },
  {
   "cell_type": "code",
   "execution_count": 24,
   "id": "45dcb4b2",
   "metadata": {},
   "outputs": [],
   "source": [
    "als = ALS(maxIter=5, regParam=0.01, userCol='userId', itemCol='movieId', ratingCol='rating')"
   ]
  },
  {
   "cell_type": "code",
   "execution_count": 25,
   "id": "9e55cb11",
   "metadata": {},
   "outputs": [],
   "source": [
    "model = als.fit(train_df)"
   ]
  },
  {
   "cell_type": "markdown",
   "id": "f64575e3",
   "metadata": {},
   "source": [
    "**Prediction**"
   ]
  },
  {
   "cell_type": "code",
   "execution_count": 26,
   "id": "b461d814",
   "metadata": {},
   "outputs": [],
   "source": [
    "predictions = model.transform(test_df)"
   ]
  },
  {
   "cell_type": "code",
   "execution_count": 27,
   "id": "104566ad",
   "metadata": {},
   "outputs": [
    {
     "name": "stdout",
     "output_type": "stream",
     "text": [
      "+-------+------+------+-----------+\n",
      "|movieId|rating|userId| prediction|\n",
      "+-------+------+------+-----------+\n",
      "|      3|   1.0|    28|-0.34823284|\n",
      "|      1|   1.0|    26|  1.3771621|\n",
      "|      2|   1.0|    26|  1.8415248|\n",
      "|      5|   2.0|    26| -0.9434276|\n",
      "|      5|   2.0|    22|  1.2701911|\n",
      "|      3|   1.0|     1|  0.7007606|\n",
      "|      0|   1.0|    13| 0.02260065|\n",
      "|      1|   4.0|    15|  0.8687047|\n",
      "|      2|   1.0|    17|  0.8990648|\n",
      "|      4|   1.0|     9|   2.356185|\n",
      "|      3|   2.0|     8|  2.7019448|\n",
      "|      4|   1.0|    23|-0.30082572|\n",
      "|      4|   1.0|     7|  2.5713956|\n",
      "|      0|   3.0|    10|   2.445042|\n",
      "|      1|   3.0|    25|  1.0628293|\n",
      "|      5|   1.0|    29|  1.9645233|\n",
      "|      2|   4.0|    21|  3.1072564|\n",
      "|      3|   1.0|    21|  2.6350176|\n",
      "|      1|   1.0|    14|  0.7097839|\n",
      "|      4|   1.0|    14|  2.2342968|\n",
      "+-------+------+------+-----------+\n",
      "only showing top 20 rows\n",
      "\n"
     ]
    }
   ],
   "source": [
    "predictions.show()"
   ]
  },
  {
   "cell_type": "markdown",
   "id": "03081ec2",
   "metadata": {},
   "source": [
    "**Evaluation model**"
   ]
  },
  {
   "cell_type": "code",
   "execution_count": 38,
   "id": "6f3dd9a8",
   "metadata": {},
   "outputs": [],
   "source": [
    "evaluator = RegressionEvaluator(predictionCol='prediction', labelCol='rating', metricName='rmse')"
   ]
  },
  {
   "cell_type": "code",
   "execution_count": 40,
   "id": "7caaa189",
   "metadata": {},
   "outputs": [
    {
     "data": {
      "text/plain": [
       "1.6466602456704689"
      ]
     },
     "execution_count": 40,
     "metadata": {},
     "output_type": "execute_result"
    }
   ],
   "source": [
    "rmse = evaluator.evaluate(predictions)\n",
    "rmse"
   ]
  },
  {
   "cell_type": "markdown",
   "id": "f6673106",
   "metadata": {},
   "source": [
    "**Recomemdations**"
   ]
  },
  {
   "cell_type": "code",
   "execution_count": 49,
   "id": "03cfc5e0",
   "metadata": {},
   "outputs": [],
   "source": [
    "single_user = test_df.filter(test_df['UserId']==11).select('movieId', 'userId')"
   ]
  },
  {
   "cell_type": "code",
   "execution_count": 50,
   "id": "e870203e",
   "metadata": {},
   "outputs": [
    {
     "name": "stdout",
     "output_type": "stream",
     "text": [
      "+-------+------+\n",
      "|movieId|userId|\n",
      "+-------+------+\n",
      "|      6|    11|\n",
      "|     13|    11|\n",
      "|     18|    11|\n",
      "|     22|    11|\n",
      "|     27|    11|\n",
      "|     39|    11|\n",
      "|     59|    11|\n",
      "|     70|    11|\n",
      "|     80|    11|\n",
      "|     81|    11|\n",
      "|     86|    11|\n",
      "|     90|    11|\n",
      "|     94|    11|\n",
      "+-------+------+\n",
      "\n"
     ]
    }
   ],
   "source": [
    "single_user.show()"
   ]
  },
  {
   "cell_type": "code",
   "execution_count": 51,
   "id": "e7ce21bc",
   "metadata": {},
   "outputs": [],
   "source": [
    "recommendations = model.transform(single_user)"
   ]
  },
  {
   "cell_type": "code",
   "execution_count": 54,
   "id": "acc89008",
   "metadata": {},
   "outputs": [
    {
     "name": "stdout",
     "output_type": "stream",
     "text": [
      "+-------+------+----------+\n",
      "|movieId|userId|prediction|\n",
      "+-------+------+----------+\n",
      "|     18|    11|  5.035202|\n",
      "|     80|    11| 3.8331516|\n",
      "|     39|    11| 3.6820476|\n",
      "|     90|    11| 3.4830482|\n",
      "|     22|    11| 3.4766424|\n",
      "|     27|    11| 3.3375447|\n",
      "|     94|    11|  2.776441|\n",
      "|      6|    11| 2.4500823|\n",
      "|     59|    11| 2.4404414|\n",
      "|     70|    11| 2.1853714|\n",
      "|     86|    11| 1.9046199|\n",
      "|     13|    11|0.42249718|\n",
      "|     81|    11|-1.2791772|\n",
      "+-------+------+----------+\n",
      "\n"
     ]
    }
   ],
   "source": [
    "recommendations.orderBy('prediction', ascending=False).show()"
   ]
  }
 ],
 "metadata": {
  "kernelspec": {
   "display_name": "Python 3 (ipykernel)",
   "language": "python",
   "name": "python3"
  },
  "language_info": {
   "codemirror_mode": {
    "name": "ipython",
    "version": 3
   },
   "file_extension": ".py",
   "mimetype": "text/x-python",
   "name": "python",
   "nbconvert_exporter": "python",
   "pygments_lexer": "ipython3",
   "version": "3.10.6"
  }
 },
 "nbformat": 4,
 "nbformat_minor": 5
}
