{
 "cells": [
  {
   "cell_type": "markdown",
   "id": "50d8c095",
   "metadata": {},
   "source": [
    "# Spark - Natural Language Process (NLP)"
   ]
  },
  {
   "cell_type": "markdown",
   "id": "554a55ce",
   "metadata": {},
   "source": [
    "**Imports**"
   ]
  },
  {
   "cell_type": "code",
   "execution_count": 73,
   "id": "deec602e",
   "metadata": {},
   "outputs": [],
   "source": [
    "import findspark\n",
    "findspark.init('/home/sedat/spark-3.3.2-bin-hadoop3')\n",
    "from pyspark.sql import SparkSession\n",
    "from pyspark.ml.feature import Tokenizer, RegexTokenizer, HashingTF, IDF\n",
    "from pyspark.sql.functions import col, udf\n",
    "from pyspark.sql.types import IntegerType\n",
    "from pyspark.ml.feature import StopWordsRemover, NGram, CountVectorizer"
   ]
  },
  {
   "cell_type": "markdown",
   "id": "a44ae5e3",
   "metadata": {},
   "source": [
    "**Start spark session and create a dataframe**"
   ]
  },
  {
   "cell_type": "code",
   "execution_count": 3,
   "id": "8ace94c7",
   "metadata": {},
   "outputs": [],
   "source": [
    "spark = SparkSession.builder.appName('nlp').getOrCreate()"
   ]
  },
  {
   "cell_type": "code",
   "execution_count": 13,
   "id": "ccd69ed2",
   "metadata": {},
   "outputs": [],
   "source": [
    "sen_df = spark.createDataFrame([(0, 'Hi, I heard about Spark'),\n",
    "                               (1, 'I wish java could use case classes'),\n",
    "                               (2, 'Logistic,regression,models,are,neat')], \n",
    "                               schema=['id', 'sentences'])"
   ]
  },
  {
   "cell_type": "code",
   "execution_count": 14,
   "id": "2db4437e",
   "metadata": {},
   "outputs": [
    {
     "name": "stdout",
     "output_type": "stream",
     "text": [
      "+---+--------------------+\n",
      "| id|           sentences|\n",
      "+---+--------------------+\n",
      "|  0|Hi, I heard about...|\n",
      "|  1|I wish java could...|\n",
      "|  2|Logistic,regressi...|\n",
      "+---+--------------------+\n",
      "\n"
     ]
    }
   ],
   "source": [
    "sen_df.show()"
   ]
  },
  {
   "cell_type": "markdown",
   "id": "6714f24a",
   "metadata": {},
   "source": [
    "**Tokenizer and regex tokenizer**"
   ]
  },
  {
   "cell_type": "code",
   "execution_count": 15,
   "id": "224fc90a",
   "metadata": {},
   "outputs": [],
   "source": [
    "tokenizer = Tokenizer(inputCol='sentences', outputCol='words')"
   ]
  },
  {
   "cell_type": "code",
   "execution_count": 17,
   "id": "98b67c0f",
   "metadata": {},
   "outputs": [],
   "source": [
    "regex_tokenizer = RegexTokenizer(inputCol='sentences', outputCol='words', pattern='\\\\W')"
   ]
  },
  {
   "cell_type": "code",
   "execution_count": 27,
   "id": "55aaa8c2",
   "metadata": {},
   "outputs": [],
   "source": [
    "# user defined function (udf)\n",
    "count_tokens = udf(lambda words:len(words), IntegerType())"
   ]
  },
  {
   "cell_type": "code",
   "execution_count": 56,
   "id": "5b02dce9",
   "metadata": {},
   "outputs": [
    {
     "name": "stdout",
     "output_type": "stream",
     "text": [
      "+---+--------------------+--------------------+\n",
      "| id|           sentences|               words|\n",
      "+---+--------------------+--------------------+\n",
      "|  0|Hi, I heard about...|[hi,, i, heard, a...|\n",
      "|  1|I wish java could...|[i, wish, java, c...|\n",
      "|  2|Logistic,regressi...|[logistic,regress...|\n",
      "+---+--------------------+--------------------+\n",
      "\n"
     ]
    }
   ],
   "source": [
    "tokenized = tokenizer.transform(sen_df)\n",
    "tokenized.show()"
   ]
  },
  {
   "cell_type": "code",
   "execution_count": 28,
   "id": "571864cb",
   "metadata": {},
   "outputs": [
    {
     "name": "stdout",
     "output_type": "stream",
     "text": [
      "+---+--------------------+--------------------+------+\n",
      "| id|           sentences|               words|tokens|\n",
      "+---+--------------------+--------------------+------+\n",
      "|  0|Hi, I heard about...|[hi,, i, heard, a...|     5|\n",
      "|  1|I wish java could...|[i, wish, java, c...|     7|\n",
      "|  2|Logistic,regressi...|[logistic,regress...|     1|\n",
      "+---+--------------------+--------------------+------+\n",
      "\n"
     ]
    }
   ],
   "source": [
    "tokenized.withColumn('tokens', count_tokens(col('words'))).show() # something wrong in the last tokens"
   ]
  },
  {
   "cell_type": "code",
   "execution_count": 29,
   "id": "6d9e78db",
   "metadata": {},
   "outputs": [],
   "source": [
    "rg_tokenized = regex_tokenizer.transform(sen_df)"
   ]
  },
  {
   "cell_type": "code",
   "execution_count": 30,
   "id": "1220298a",
   "metadata": {},
   "outputs": [
    {
     "name": "stdout",
     "output_type": "stream",
     "text": [
      "+---+--------------------+--------------------+------+\n",
      "| id|           sentences|               words|tokens|\n",
      "+---+--------------------+--------------------+------+\n",
      "|  0|Hi, I heard about...|[hi, i, heard, ab...|     5|\n",
      "|  1|I wish java could...|[i, wish, java, c...|     7|\n",
      "|  2|Logistic,regressi...|[logistic, regres...|     5|\n",
      "+---+--------------------+--------------------+------+\n",
      "\n"
     ]
    }
   ],
   "source": [
    "rg_tokenized.withColumn('tokens', count_tokens(col('words'))).show()"
   ]
  },
  {
   "cell_type": "markdown",
   "id": "e4809a73",
   "metadata": {},
   "source": [
    "**Stop words**"
   ]
  },
  {
   "cell_type": "code",
   "execution_count": 36,
   "id": "dc80ab0c",
   "metadata": {},
   "outputs": [],
   "source": [
    "sentence_dataframe = spark.createDataFrame([(0, ['I', 'saw', 'the', 'green', 'horse']),\n",
    "                                            (1, ['Marry', 'had', 'a', 'little', 'lamb'])], schema=['id', 'sentences'])"
   ]
  },
  {
   "cell_type": "code",
   "execution_count": 37,
   "id": "fe44d715",
   "metadata": {},
   "outputs": [
    {
     "name": "stdout",
     "output_type": "stream",
     "text": [
      "+---+--------------------+\n",
      "| id|           sentences|\n",
      "+---+--------------------+\n",
      "|  0|[I, saw, the, gre...|\n",
      "|  1|[Marry, had, a, l...|\n",
      "+---+--------------------+\n",
      "\n"
     ]
    }
   ],
   "source": [
    "sentence_dataframe.show()"
   ]
  },
  {
   "cell_type": "code",
   "execution_count": 38,
   "id": "fe500685",
   "metadata": {},
   "outputs": [],
   "source": [
    "remover = StopWordsRemover(inputCol='sentences', outputCol='filtered')"
   ]
  },
  {
   "cell_type": "code",
   "execution_count": 40,
   "id": "76dc70c0",
   "metadata": {},
   "outputs": [
    {
     "name": "stdout",
     "output_type": "stream",
     "text": [
      "+---+--------------------+--------------------+\n",
      "| id|           sentences|            filtered|\n",
      "+---+--------------------+--------------------+\n",
      "|  0|[I, saw, the, gre...| [saw, green, horse]|\n",
      "|  1|[Marry, had, a, l...|[Marry, little, l...|\n",
      "+---+--------------------+--------------------+\n",
      "\n"
     ]
    }
   ],
   "source": [
    "remover.transform(sentence_dataframe).show()"
   ]
  },
  {
   "cell_type": "markdown",
   "id": "e54ddd3a",
   "metadata": {},
   "source": [
    "**NGrams (n=2)**"
   ]
  },
  {
   "cell_type": "code",
   "execution_count": 43,
   "id": "c391f097",
   "metadata": {},
   "outputs": [
    {
     "name": "stdout",
     "output_type": "stream",
     "text": [
      "+---+--------------------+\n",
      "| id|               words|\n",
      "+---+--------------------+\n",
      "|  0|[Hi, I, heard, ab...|\n",
      "|  1|[I, wish, java, c...|\n",
      "|  2|[Logistic, regres...|\n",
      "+---+--------------------+\n",
      "\n"
     ]
    }
   ],
   "source": [
    "word_dataframe = spark.createDataFrame([(0, ['Hi', 'I', 'heard', 'about', 'Spark']),\n",
    "                               (1, ['I', 'wish', 'java', 'could', 'use', 'case', 'classes']),\n",
    "                               (2, ['Logistic', 'regression', 'models', 'are' ,'neat'])], \n",
    "                               schema=['id', 'words'])\n",
    "word_dataframe.show()"
   ]
  },
  {
   "cell_type": "code",
   "execution_count": 50,
   "id": "06d1c06d",
   "metadata": {},
   "outputs": [
    {
     "name": "stdout",
     "output_type": "stream",
     "text": [
      "+---+--------------------+--------------------+\n",
      "| id|               words|          ngrams_col|\n",
      "+---+--------------------+--------------------+\n",
      "|  0|[Hi, I, heard, ab...|[Hi I, I heard, h...|\n",
      "|  1|[I, wish, java, c...|[I wish, wish jav...|\n",
      "|  2|[Logistic, regres...|[Logistic regress...|\n",
      "+---+--------------------+--------------------+\n",
      "\n"
     ]
    }
   ],
   "source": [
    "ngram = NGram(n=2, inputCol='words', outputCol='ngrams_col')\n",
    "ngram.transform(word_dataframe).show()"
   ]
  },
  {
   "cell_type": "code",
   "execution_count": 51,
   "id": "524d9aab",
   "metadata": {},
   "outputs": [
    {
     "name": "stdout",
     "output_type": "stream",
     "text": [
      "+------------------------------------------------------------------+\n",
      "|ngrams_col                                                        |\n",
      "+------------------------------------------------------------------+\n",
      "|[Hi I, I heard, heard about, about Spark]                         |\n",
      "|[I wish, wish java, java could, could use, use case, case classes]|\n",
      "|[Logistic regression, regression models, models are, are neat]    |\n",
      "+------------------------------------------------------------------+\n",
      "\n"
     ]
    }
   ],
   "source": [
    "ngram.transform(word_dataframe).select('ngrams_col').show(truncate=False)"
   ]
  },
  {
   "cell_type": "markdown",
   "id": "cb02ab66",
   "metadata": {},
   "source": [
    "**NGrams (n=3)**"
   ]
  },
  {
   "cell_type": "code",
   "execution_count": 54,
   "id": "a424c956",
   "metadata": {},
   "outputs": [
    {
     "name": "stdout",
     "output_type": "stream",
     "text": [
      "+--------------------------------------------------------------------------------+\n",
      "|ngrams_col                                                                      |\n",
      "+--------------------------------------------------------------------------------+\n",
      "|[Hi I heard, I heard about, heard about Spark]                                  |\n",
      "|[I wish java, wish java could, java could use, could use case, use case classes]|\n",
      "|[Logistic regression models, regression models are, models are neat]            |\n",
      "+--------------------------------------------------------------------------------+\n",
      "\n"
     ]
    }
   ],
   "source": [
    "ngram = NGram(n=3, inputCol='words', outputCol='ngrams_col')\n",
    "ngram.transform(word_dataframe).select('ngrams_col').show(truncate=False)"
   ]
  },
  {
   "cell_type": "markdown",
   "id": "3d37a14d",
   "metadata": {},
   "source": [
    "**Hashing TF and IDF**"
   ]
  },
  {
   "cell_type": "code",
   "execution_count": 57,
   "id": "03c7eff7",
   "metadata": {},
   "outputs": [
    {
     "name": "stdout",
     "output_type": "stream",
     "text": [
      "+---+--------------------+--------------------+\n",
      "| id|           sentences|               words|\n",
      "+---+--------------------+--------------------+\n",
      "|  0|Hi, I heard about...|[hi,, i, heard, a...|\n",
      "|  1|I wish java could...|[i, wish, java, c...|\n",
      "|  2|Logistic,regressi...|[logistic,regress...|\n",
      "+---+--------------------+--------------------+\n",
      "\n"
     ]
    }
   ],
   "source": [
    "tokenized.show()"
   ]
  },
  {
   "cell_type": "code",
   "execution_count": 61,
   "id": "95774ed5",
   "metadata": {},
   "outputs": [],
   "source": [
    "hashing_tf = HashingTF(inputCol='words', outputCol='raw_features')\n",
    "featurized_data = hashing_tf.transform(tokenized)"
   ]
  },
  {
   "cell_type": "code",
   "execution_count": 62,
   "id": "403d7e3a",
   "metadata": {},
   "outputs": [
    {
     "name": "stdout",
     "output_type": "stream",
     "text": [
      "+---+--------------------+--------------------+--------------------+\n",
      "| id|           sentences|               words|        raw_features|\n",
      "+---+--------------------+--------------------+--------------------+\n",
      "|  0|Hi, I heard about...|[hi,, i, heard, a...|(262144,[18700,19...|\n",
      "|  1|I wish java could...|[i, wish, java, c...|(262144,[19036,20...|\n",
      "|  2|Logistic,regressi...|[logistic,regress...|(262144,[11534],[...|\n",
      "+---+--------------------+--------------------+--------------------+\n",
      "\n"
     ]
    }
   ],
   "source": [
    "featurized_data.show()"
   ]
  },
  {
   "cell_type": "code",
   "execution_count": 68,
   "id": "06b7d917",
   "metadata": {},
   "outputs": [],
   "source": [
    "idf = IDF(inputCol='raw_features', outputCol='features')"
   ]
  },
  {
   "cell_type": "code",
   "execution_count": 69,
   "id": "87d04ca3",
   "metadata": {},
   "outputs": [],
   "source": [
    "idf_model = idf.fit(featurized_data)"
   ]
  },
  {
   "cell_type": "code",
   "execution_count": 70,
   "id": "f0a2dd06",
   "metadata": {},
   "outputs": [],
   "source": [
    "rescaled_data = idf_model.transform(featurized_data)"
   ]
  },
  {
   "cell_type": "code",
   "execution_count": 71,
   "id": "235233b1",
   "metadata": {},
   "outputs": [
    {
     "name": "stdout",
     "output_type": "stream",
     "text": [
      "23/03/30 12:51:13 WARN DAGScheduler: Broadcasting large task binary with size 4.0 MiB\n",
      "23/03/30 12:51:13 WARN DAGScheduler: Broadcasting large task binary with size 4.0 MiB\n",
      "+---+--------------------+--------------------+--------------------+--------------------+\n",
      "| id|           sentences|               words|        raw_features|            features|\n",
      "+---+--------------------+--------------------+--------------------+--------------------+\n",
      "|  0|Hi, I heard about...|[hi,, i, heard, a...|(262144,[18700,19...|(262144,[18700,19...|\n",
      "|  1|I wish java could...|[i, wish, java, c...|(262144,[19036,20...|(262144,[19036,20...|\n",
      "|  2|Logistic,regressi...|[logistic,regress...|(262144,[11534],[...|(262144,[11534],[...|\n",
      "+---+--------------------+--------------------+--------------------+--------------------+\n",
      "\n"
     ]
    }
   ],
   "source": [
    "rescaled_data.show()"
   ]
  }
 ],
 "metadata": {
  "kernelspec": {
   "display_name": "Python 3 (ipykernel)",
   "language": "python",
   "name": "python3"
  },
  "language_info": {
   "codemirror_mode": {
    "name": "ipython",
    "version": 3
   },
   "file_extension": ".py",
   "mimetype": "text/x-python",
   "name": "python",
   "nbconvert_exporter": "python",
   "pygments_lexer": "ipython3",
   "version": "3.10.6"
  }
 },
 "nbformat": 4,
 "nbformat_minor": 5
}
