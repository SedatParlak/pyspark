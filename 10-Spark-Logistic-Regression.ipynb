{
 "cells": [
  {
   "cell_type": "markdown",
   "id": "36975d81",
   "metadata": {},
   "source": [
    "# Spark - Logistic Regression"
   ]
  },
  {
   "cell_type": "markdown",
   "id": "666d68b8",
   "metadata": {},
   "source": [
    "**Imports**"
   ]
  },
  {
   "cell_type": "code",
   "execution_count": 34,
   "id": "10abb5d5",
   "metadata": {},
   "outputs": [],
   "source": [
    "import findspark\n",
    "findspark.init('/home/sedat/spark-3.3.2-bin-hadoop3')\n",
    "from pyspark.sql import SparkSession\n",
    "from pyspark.ml.classification import LogisticRegression\n",
    "from pyspark.ml.evaluation import BinaryClassificationEvaluator, MulticlassClassificationEvaluator"
   ]
  },
  {
   "cell_type": "markdown",
   "id": "55154748",
   "metadata": {},
   "source": [
    "**Create spark session and read data**"
   ]
  },
  {
   "cell_type": "code",
   "execution_count": 4,
   "id": "b62a02a8",
   "metadata": {},
   "outputs": [],
   "source": [
    "spark = SparkSession.builder.appName('logreg').getOrCreate()"
   ]
  },
  {
   "cell_type": "code",
   "execution_count": 6,
   "id": "6d686fa8",
   "metadata": {},
   "outputs": [
    {
     "name": "stdout",
     "output_type": "stream",
     "text": [
      "23/03/22 18:24:22 WARN LibSVMFileFormat: 'numFeatures' option not specified, determining the number of features by going though the input. If you know the number in advance, please specify it via 'numFeatures' option to avoid the extra scan.\n"
     ]
    }
   ],
   "source": [
    "df = spark.read.format('libsvm').load('sample_libsvm_data.txt')"
   ]
  },
  {
   "cell_type": "code",
   "execution_count": 7,
   "id": "0d9113ee",
   "metadata": {},
   "outputs": [
    {
     "name": "stdout",
     "output_type": "stream",
     "text": [
      "+-----+--------------------+\n",
      "|label|            features|\n",
      "+-----+--------------------+\n",
      "|  0.0|(692,[127,128,129...|\n",
      "|  1.0|(692,[158,159,160...|\n",
      "|  1.0|(692,[124,125,126...|\n",
      "|  1.0|(692,[152,153,154...|\n",
      "|  1.0|(692,[151,152,153...|\n",
      "|  0.0|(692,[129,130,131...|\n",
      "|  1.0|(692,[158,159,160...|\n",
      "|  1.0|(692,[99,100,101,...|\n",
      "|  0.0|(692,[154,155,156...|\n",
      "|  0.0|(692,[127,128,129...|\n",
      "|  1.0|(692,[154,155,156...|\n",
      "|  0.0|(692,[153,154,155...|\n",
      "|  0.0|(692,[151,152,153...|\n",
      "|  1.0|(692,[129,130,131...|\n",
      "|  0.0|(692,[154,155,156...|\n",
      "|  1.0|(692,[150,151,152...|\n",
      "|  0.0|(692,[124,125,126...|\n",
      "|  0.0|(692,[152,153,154...|\n",
      "|  1.0|(692,[97,98,99,12...|\n",
      "|  1.0|(692,[124,125,126...|\n",
      "+-----+--------------------+\n",
      "only showing top 20 rows\n",
      "\n"
     ]
    }
   ],
   "source": [
    "df.show()"
   ]
  },
  {
   "cell_type": "markdown",
   "id": "f365d646",
   "metadata": {},
   "source": [
    "**Creating logistic regression mo**del"
   ]
  },
  {
   "cell_type": "code",
   "execution_count": 17,
   "id": "207d5de5",
   "metadata": {},
   "outputs": [],
   "source": [
    "log_model = LogisticRegression()"
   ]
  },
  {
   "cell_type": "code",
   "execution_count": 19,
   "id": "33ce3eac",
   "metadata": {},
   "outputs": [],
   "source": [
    "logModel = log_model.fit(df)"
   ]
  },
  {
   "cell_type": "markdown",
   "id": "47c36a20",
   "metadata": {},
   "source": [
    "**Model summary**"
   ]
  },
  {
   "cell_type": "code",
   "execution_count": 20,
   "id": "8f9d317e",
   "metadata": {},
   "outputs": [],
   "source": [
    "log_summary = logModel.summary"
   ]
  },
  {
   "cell_type": "code",
   "execution_count": 23,
   "id": "aae7fc66",
   "metadata": {},
   "outputs": [
    {
     "name": "stdout",
     "output_type": "stream",
     "text": [
      "root\n",
      " |-- label: double (nullable = true)\n",
      " |-- features: vector (nullable = true)\n",
      " |-- rawPrediction: vector (nullable = true)\n",
      " |-- probability: vector (nullable = true)\n",
      " |-- prediction: double (nullable = false)\n",
      "\n"
     ]
    }
   ],
   "source": [
    "log_summary.predictions.printSchema()"
   ]
  },
  {
   "cell_type": "code",
   "execution_count": 24,
   "id": "093f55b9",
   "metadata": {},
   "outputs": [
    {
     "name": "stdout",
     "output_type": "stream",
     "text": [
      "+-----+--------------------+--------------------+--------------------+----------+\n",
      "|label|            features|       rawPrediction|         probability|prediction|\n",
      "+-----+--------------------+--------------------+--------------------+----------+\n",
      "|  0.0|(692,[127,128,129...|[20.3777627514872...|[0.99999999858729...|       0.0|\n",
      "|  1.0|(692,[158,159,160...|[-21.114014198868...|[6.76550380000472...|       1.0|\n",
      "|  1.0|(692,[124,125,126...|[-23.743613234676...|[4.87842678716177...|       1.0|\n",
      "|  1.0|(692,[152,153,154...|[-19.192574012720...|[4.62137287298144...|       1.0|\n",
      "|  1.0|(692,[151,152,153...|[-20.125398874699...|[1.81823629113068...|       1.0|\n",
      "|  0.0|(692,[129,130,131...|[20.4890549504196...|[0.99999999873608...|       0.0|\n",
      "|  1.0|(692,[158,159,160...|[-21.082940212814...|[6.97903542823766...|       1.0|\n",
      "|  1.0|(692,[99,100,101,...|[-19.622713503550...|[3.00582577446132...|       1.0|\n",
      "|  0.0|(692,[154,155,156...|[21.1594863606582...|[0.99999999935352...|       0.0|\n",
      "|  0.0|(692,[127,128,129...|[28.1036706837287...|[0.99999999999937...|       0.0|\n",
      "|  1.0|(692,[154,155,156...|[-21.054076780106...|[7.18340962960324...|       1.0|\n",
      "|  0.0|(692,[153,154,155...|[26.9648490510184...|[0.99999999999805...|       0.0|\n",
      "|  0.0|(692,[151,152,153...|[32.7855654161400...|[0.99999999999999...|       0.0|\n",
      "|  1.0|(692,[129,130,131...|[-20.331839179667...|[1.47908944089721...|       1.0|\n",
      "|  0.0|(692,[154,155,156...|[21.7830579106564...|[0.99999999965347...|       0.0|\n",
      "|  1.0|(692,[150,151,152...|[-20.640562103728...|[1.08621994880353...|       1.0|\n",
      "|  0.0|(692,[124,125,126...|[22.6400775503731...|[0.99999999985292...|       0.0|\n",
      "|  0.0|(692,[152,153,154...|[38.0712919910909...|           [1.0,0.0]|       0.0|\n",
      "|  1.0|(692,[97,98,99,12...|[-19.830803265627...|[2.44113371545874...|       1.0|\n",
      "|  1.0|(692,[124,125,126...|[-21.016054806036...|[7.46179590484091...|       1.0|\n",
      "+-----+--------------------+--------------------+--------------------+----------+\n",
      "only showing top 20 rows\n",
      "\n"
     ]
    }
   ],
   "source": [
    "log_summary.predictions.show()"
   ]
  },
  {
   "cell_type": "markdown",
   "id": "70ca4d98",
   "metadata": {},
   "source": [
    "**Split data (train and test)**"
   ]
  },
  {
   "cell_type": "code",
   "execution_count": 25,
   "id": "ebda4f82",
   "metadata": {},
   "outputs": [],
   "source": [
    "train_df, test_df = df.randomSplit([0.7, 0.3])"
   ]
  },
  {
   "cell_type": "markdown",
   "id": "b58eea1c",
   "metadata": {},
   "source": [
    "**Final Model**"
   ]
  },
  {
   "cell_type": "code",
   "execution_count": 27,
   "id": "14263732",
   "metadata": {},
   "outputs": [],
   "source": [
    "final_model = LogisticRegression()"
   ]
  },
  {
   "cell_type": "code",
   "execution_count": 29,
   "id": "de3e9f38",
   "metadata": {},
   "outputs": [],
   "source": [
    "final_model = final_model.fit(train_df)"
   ]
  },
  {
   "cell_type": "code",
   "execution_count": 30,
   "id": "604cd1ba",
   "metadata": {},
   "outputs": [],
   "source": [
    "prediction_and_label = final_model.evaluate(test_df)"
   ]
  },
  {
   "cell_type": "code",
   "execution_count": 32,
   "id": "a50bf61a",
   "metadata": {},
   "outputs": [
    {
     "name": "stdout",
     "output_type": "stream",
     "text": [
      "+-----+--------------------+--------------------+--------------------+----------+\n",
      "|label|            features|       rawPrediction|         probability|prediction|\n",
      "+-----+--------------------+--------------------+--------------------+----------+\n",
      "|  0.0|(692,[95,96,97,12...|[19.6193042142768...|[0.99999999698390...|       0.0|\n",
      "|  0.0|(692,[122,123,124...|[15.8537324988603...|[0.99999986973990...|       0.0|\n",
      "|  0.0|(692,[123,124,125...|[29.1591611096007...|[0.99999999999978...|       0.0|\n",
      "|  0.0|(692,[124,125,126...|[20.1052937178151...|[0.99999999814483...|       0.0|\n",
      "|  0.0|(692,[125,126,127...|[21.4422487291871...|[0.99999999951275...|       0.0|\n",
      "|  0.0|(692,[126,127,128...|[17.3117052567317...|[0.99999996968748...|       0.0|\n",
      "|  0.0|(692,[151,152,153...|[22.2137945481152...|[0.99999999977474...|       0.0|\n",
      "|  0.0|(692,[152,153,154...|[34.7252161409324...|[0.99999999999999...|       0.0|\n",
      "|  0.0|(692,[153,154,155...|[7.44128003893592...|[0.99941380988983...|       0.0|\n",
      "|  0.0|(692,[155,156,180...|[37.4834671540293...|           [1.0,0.0]|       0.0|\n",
      "|  1.0|(692,[99,100,101,...|[-6.7838471222240...|[0.00113063213179...|       1.0|\n",
      "|  1.0|(692,[123,124,125...|[-24.396683842972...|[2.53895398666311...|       1.0|\n",
      "|  1.0|(692,[123,124,125...|[-22.655513853383...|[1.44822269410769...|       1.0|\n",
      "|  1.0|(692,[123,124,125...|[-17.745927857743...|[1.96354765774227...|       1.0|\n",
      "|  1.0|(692,[123,124,125...|[-19.829084017283...|[2.44533424038351...|       1.0|\n",
      "|  1.0|(692,[124,125,126...|[-24.266138655902...|[2.89300966555635...|       1.0|\n",
      "|  1.0|(692,[126,127,128...|[-27.960629254190...|[7.19205507339989...|       1.0|\n",
      "|  1.0|(692,[126,127,128...|[-20.770320963715...|[9.54034802374399...|       1.0|\n",
      "|  1.0|(692,[128,129,130...|[-24.031845094278...|[3.65680907100976...|       1.0|\n",
      "|  1.0|(692,[128,129,130...|[-25.739131443690...|[6.63188894409771...|       1.0|\n",
      "+-----+--------------------+--------------------+--------------------+----------+\n",
      "only showing top 20 rows\n",
      "\n"
     ]
    }
   ],
   "source": [
    "prediction_and_label.predictions.show()"
   ]
  },
  {
   "cell_type": "markdown",
   "id": "da04748d",
   "metadata": {},
   "source": [
    "**Model evaluation**"
   ]
  },
  {
   "cell_type": "code",
   "execution_count": 35,
   "id": "bb37508f",
   "metadata": {},
   "outputs": [],
   "source": [
    "my_eval = BinaryClassificationEvaluator()"
   ]
  },
  {
   "cell_type": "code",
   "execution_count": 38,
   "id": "d522293f",
   "metadata": {},
   "outputs": [],
   "source": [
    "final_eval_roc = my_eval.evaluate(prediction_and_label.predictions)"
   ]
  },
  {
   "cell_type": "code",
   "execution_count": 39,
   "id": "cb48a93f",
   "metadata": {},
   "outputs": [
    {
     "data": {
      "text/plain": [
       "1.0"
      ]
     },
     "execution_count": 39,
     "metadata": {},
     "output_type": "execute_result"
    }
   ],
   "source": [
    "final_eval_roc"
   ]
  },
  {
   "cell_type": "markdown",
   "id": "672c60f2",
   "metadata": {},
   "source": [
    "This result is not realistic. For the this example, our data is perfect so we get roc auc score 1.0!"
   ]
  }
 ],
 "metadata": {
  "kernelspec": {
   "display_name": "Python 3 (ipykernel)",
   "language": "python",
   "name": "python3"
  },
  "language_info": {
   "codemirror_mode": {
    "name": "ipython",
    "version": 3
   },
   "file_extension": ".py",
   "mimetype": "text/x-python",
   "name": "python",
   "nbconvert_exporter": "python",
   "pygments_lexer": "ipython3",
   "version": "3.10.6"
  }
 },
 "nbformat": 4,
 "nbformat_minor": 5
}
