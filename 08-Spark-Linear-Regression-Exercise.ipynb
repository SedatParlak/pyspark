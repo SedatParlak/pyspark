{
 "cells": [
  {
   "cell_type": "markdown",
   "id": "063f76dc",
   "metadata": {},
   "source": [
    "# Linear Regression"
   ]
  },
  {
   "cell_type": "markdown",
   "id": "c2564c32",
   "metadata": {},
   "source": [
    "**Imports**"
   ]
  },
  {
   "cell_type": "code",
   "execution_count": 54,
   "id": "f2021da0",
   "metadata": {},
   "outputs": [],
   "source": [
    "import findspark\n",
    "findspark.init('/home/sedat/spark-3.3.2-bin-hadoop3')\n",
    "from pyspark.sql import SparkSession\n",
    "from pyspark.ml.regression import LinearRegression\n",
    "from pyspark.ml.linalg import Vectors\n",
    "from pyspark.ml.feature import VectorAssembler\n",
    "import warnings\n",
    "warnings.filterwarnings(\"ignore\", category=UserWarning)"
   ]
  },
  {
   "cell_type": "markdown",
   "id": "af04fd38",
   "metadata": {},
   "source": [
    "**Start session and read csv file**"
   ]
  },
  {
   "cell_type": "code",
   "execution_count": 3,
   "id": "61315df5",
   "metadata": {},
   "outputs": [],
   "source": [
    "spark = SparkSession.builder.appName('customers').getOrCreate()"
   ]
  },
  {
   "cell_type": "code",
   "execution_count": 9,
   "id": "deabbe3e",
   "metadata": {},
   "outputs": [],
   "source": [
    "all_data = spark.read.csv('Ecommerce_Customers.csv', inferSchema=True, header=True)"
   ]
  },
  {
   "cell_type": "markdown",
   "id": "5857b78a",
   "metadata": {},
   "source": [
    "**Data Types**"
   ]
  },
  {
   "cell_type": "code",
   "execution_count": 14,
   "id": "42765ccf",
   "metadata": {},
   "outputs": [
    {
     "name": "stdout",
     "output_type": "stream",
     "text": [
      "root\n",
      " |-- Email: string (nullable = true)\n",
      " |-- Address: string (nullable = true)\n",
      " |-- Avatar: string (nullable = true)\n",
      " |-- Avg Session Length: double (nullable = true)\n",
      " |-- Time on App: double (nullable = true)\n",
      " |-- Time on Website: double (nullable = true)\n",
      " |-- Length of Membership: double (nullable = true)\n",
      " |-- Yearly Amount Spent: double (nullable = true)\n",
      "\n"
     ]
    }
   ],
   "source": [
    "all_data.printSchema()"
   ]
  },
  {
   "cell_type": "markdown",
   "id": "17d10175",
   "metadata": {},
   "source": [
    "**Total observation units**"
   ]
  },
  {
   "cell_type": "code",
   "execution_count": 10,
   "id": "060fda5f",
   "metadata": {},
   "outputs": [
    {
     "data": {
      "text/plain": [
       "500"
      ]
     },
     "execution_count": 10,
     "metadata": {},
     "output_type": "execute_result"
    }
   ],
   "source": [
    "all_data.count()"
   ]
  },
  {
   "cell_type": "markdown",
   "id": "5b9ee7f3",
   "metadata": {},
   "source": [
    "**Column names**"
   ]
  },
  {
   "cell_type": "code",
   "execution_count": 11,
   "id": "509b2a43",
   "metadata": {},
   "outputs": [
    {
     "data": {
      "text/plain": [
       "['Email',\n",
       " 'Address',\n",
       " 'Avatar',\n",
       " 'Avg Session Length',\n",
       " 'Time on App',\n",
       " 'Time on Website',\n",
       " 'Length of Membership',\n",
       " 'Yearly Amount Spent']"
      ]
     },
     "execution_count": 11,
     "metadata": {},
     "output_type": "execute_result"
    }
   ],
   "source": [
    "all_data.columns"
   ]
  },
  {
   "cell_type": "markdown",
   "id": "ff543f8d",
   "metadata": {},
   "source": [
    "**First observation unit**"
   ]
  },
  {
   "cell_type": "code",
   "execution_count": 12,
   "id": "2e2822ac",
   "metadata": {},
   "outputs": [
    {
     "data": {
      "text/plain": [
       "[Row(Email='mstephenson@fernandez.com', Address='835 Frank TunnelWrightmouth, MI 82180-9605', Avatar='Violet', Avg Session Length=34.49726772511229, Time on App=12.65565114916675, Time on Website=39.57766801952616, Length of Membership=4.0826206329529615, Yearly Amount Spent=587.9510539684005)]"
      ]
     },
     "execution_count": 12,
     "metadata": {},
     "output_type": "execute_result"
    }
   ],
   "source": [
    "all_data.head(1)"
   ]
  },
  {
   "cell_type": "code",
   "execution_count": 30,
   "id": "fd7ae611",
   "metadata": {},
   "outputs": [
    {
     "name": "stdout",
     "output_type": "stream",
     "text": [
      "Email:  mstephenson@fernandez.com\n",
      "Address:  835 Frank TunnelWrightmouth, MI 82180-9605\n",
      "Avatar:  Violet\n",
      "Avg Session Length:  34.49726772511229\n",
      "Time on App:  12.65565114916675\n",
      "Time on Website:  39.57766801952616\n",
      "Length of Membership:  4.0826206329529615\n",
      "Yearly Amount Spent:  587.9510539684005\n"
     ]
    }
   ],
   "source": [
    "for key,value in enumerate(all_data.head(1)[0]):\n",
    "    print(all_data.columns[key] + ': ', value)"
   ]
  },
  {
   "cell_type": "markdown",
   "id": "690c96ff",
   "metadata": {},
   "source": [
    "**Vector Assembler (Assign Features and Label)**"
   ]
  },
  {
   "cell_type": "code",
   "execution_count": 35,
   "id": "100fca60",
   "metadata": {},
   "outputs": [
    {
     "data": {
      "text/plain": [
       "['Avg Session Length',\n",
       " 'Time on App',\n",
       " 'Time on Website',\n",
       " 'Length of Membership']"
      ]
     },
     "execution_count": 35,
     "metadata": {},
     "output_type": "execute_result"
    }
   ],
   "source": [
    "all_data.columns[3:-1]"
   ]
  },
  {
   "cell_type": "code",
   "execution_count": 36,
   "id": "5c3f8cbe",
   "metadata": {},
   "outputs": [],
   "source": [
    "assembler = VectorAssembler(inputCols=all_data.columns[3:-1], outputCol='features')"
   ]
  },
  {
   "cell_type": "code",
   "execution_count": 38,
   "id": "fa13332c",
   "metadata": {},
   "outputs": [],
   "source": [
    "output = assembler.transform(all_data)"
   ]
  },
  {
   "cell_type": "code",
   "execution_count": 41,
   "id": "57dfbec8",
   "metadata": {},
   "outputs": [
    {
     "data": {
      "text/plain": [
       "Row(Email='mstephenson@fernandez.com', Address='835 Frank TunnelWrightmouth, MI 82180-9605', Avatar='Violet', Avg Session Length=34.49726772511229, Time on App=12.65565114916675, Time on Website=39.57766801952616, Length of Membership=4.0826206329529615, Yearly Amount Spent=587.9510539684005, features=DenseVector([34.4973, 12.6557, 39.5777, 4.0826]))"
      ]
     },
     "execution_count": 41,
     "metadata": {},
     "output_type": "execute_result"
    }
   ],
   "source": [
    "output.head(1)[0]"
   ]
  },
  {
   "cell_type": "code",
   "execution_count": 42,
   "id": "6ccaa7c9",
   "metadata": {},
   "outputs": [],
   "source": [
    "final_data = output.select('features', 'Yearly Amount Spent')"
   ]
  },
  {
   "cell_type": "code",
   "execution_count": 43,
   "id": "5e7d55b0",
   "metadata": {},
   "outputs": [
    {
     "name": "stdout",
     "output_type": "stream",
     "text": [
      "+--------------------+-------------------+\n",
      "|            features|Yearly Amount Spent|\n",
      "+--------------------+-------------------+\n",
      "|[34.4972677251122...|  587.9510539684005|\n",
      "|[31.9262720263601...|  392.2049334443264|\n",
      "|[33.0009147556426...| 487.54750486747207|\n",
      "|[34.3055566297555...|  581.8523440352177|\n",
      "|[33.3306725236463...|  599.4060920457634|\n",
      "|[33.8710378793419...|   637.102447915074|\n",
      "|[32.0215955013870...|  521.5721747578274|\n",
      "|[32.7391429383803...|  549.9041461052942|\n",
      "|[33.9877728956856...|  570.2004089636196|\n",
      "|[31.9365486184489...|  427.1993848953282|\n",
      "|[33.9925727749537...|  492.6060127179966|\n",
      "|[33.8793608248049...|  522.3374046069357|\n",
      "|[29.5324289670579...|  408.6403510726275|\n",
      "|[33.1903340437226...|  573.4158673313865|\n",
      "|[32.3879758531538...|  470.4527333009554|\n",
      "|[30.7377203726281...|  461.7807421962299|\n",
      "|[32.1253868972878...| 457.84769594494855|\n",
      "|[32.3388993230671...| 407.70454754954415|\n",
      "|[32.1878120459321...|  452.3156754800354|\n",
      "|[32.6178560628234...|   605.061038804892|\n",
      "+--------------------+-------------------+\n",
      "only showing top 20 rows\n",
      "\n"
     ]
    }
   ],
   "source": [
    "final_data.show()"
   ]
  },
  {
   "cell_type": "markdown",
   "id": "5bbb1b2b",
   "metadata": {},
   "source": [
    "**Linear Regression Model**"
   ]
  },
  {
   "cell_type": "code",
   "execution_count": 45,
   "id": "26378762",
   "metadata": {},
   "outputs": [],
   "source": [
    "# split data to train and test\n",
    "train_data, test_data = final_data.randomSplit([0.7, 0.3])"
   ]
  },
  {
   "cell_type": "code",
   "execution_count": 48,
   "id": "adb32781",
   "metadata": {},
   "outputs": [
    {
     "name": "stdout",
     "output_type": "stream",
     "text": [
      "Train data: 349\n",
      "Test data: 151\n"
     ]
    }
   ],
   "source": [
    "print(f'Train data: {train_data.count()}')\n",
    "print(f'Test data: {test_data.count()}')"
   ]
  },
  {
   "cell_type": "code",
   "execution_count": 49,
   "id": "82f3bb76",
   "metadata": {},
   "outputs": [
    {
     "name": "stdout",
     "output_type": "stream",
     "text": [
      "+-------+-------------------+\n",
      "|summary|Yearly Amount Spent|\n",
      "+-------+-------------------+\n",
      "|  count|                349|\n",
      "|   mean| 494.53962380143287|\n",
      "| stddev|  81.81934448390658|\n",
      "|    min| 256.67058229005585|\n",
      "|    max|  765.5184619388373|\n",
      "+-------+-------------------+\n",
      "\n"
     ]
    }
   ],
   "source": [
    "# describe train data\n",
    "train_data.describe().show()"
   ]
  },
  {
   "cell_type": "code",
   "execution_count": 51,
   "id": "09649a90",
   "metadata": {},
   "outputs": [
    {
     "name": "stdout",
     "output_type": "stream",
     "text": [
      "+-------+-------------------+\n",
      "|summary|Yearly Amount Spent|\n",
      "+-------+-------------------+\n",
      "|  count|                151|\n",
      "|   mean|  510.3489431959953|\n",
      "| stddev|  72.25560466728332|\n",
      "|    min| 347.77692663187264|\n",
      "|    max|  712.3963268096637|\n",
      "+-------+-------------------+\n",
      "\n"
     ]
    }
   ],
   "source": [
    "# describe test data\n",
    "test_data.describe().show()"
   ]
  },
  {
   "cell_type": "code",
   "execution_count": 55,
   "id": "37253cb3",
   "metadata": {},
   "outputs": [
    {
     "name": "stdout",
     "output_type": "stream",
     "text": [
      "23/03/19 15:09:00 WARN Instrumentation: [6adbe070] regParam is zero, which might cause numerical instability and overfitting.\n"
     ]
    }
   ],
   "source": [
    "# model\n",
    "lr = LinearRegression(featuresCol='features', labelCol='Yearly Amount Spent', predictionCol='predictions')\n",
    "lrModel = lr.fit(train_data)"
   ]
  },
  {
   "cell_type": "code",
   "execution_count": 60,
   "id": "01900069",
   "metadata": {},
   "outputs": [
    {
     "name": "stdout",
     "output_type": "stream",
     "text": [
      "+-------------------+\n",
      "|          residuals|\n",
      "+-------------------+\n",
      "|-3.4537816008552795|\n",
      "|-12.792657717534155|\n",
      "|-21.566750113538887|\n",
      "| 21.860549234884274|\n",
      "|  4.243601495695998|\n",
      "|-3.7633729866720387|\n",
      "| 3.3231265030223653|\n",
      "|  4.650158282601126|\n",
      "|-17.658587850005915|\n",
      "|-14.361817923571152|\n",
      "|   17.6480654187215|\n",
      "|  7.238000734832156|\n",
      "|-0.5705018994812008|\n",
      "|-0.9245696148645379|\n",
      "| -5.931454301247584|\n",
      "| -4.330133215024546|\n",
      "|  7.808039849875229|\n",
      "|  8.562380069164021|\n",
      "| 6.0448343459464695|\n",
      "|  8.544091272195715|\n",
      "+-------------------+\n",
      "only showing top 20 rows\n",
      "\n"
     ]
    }
   ],
   "source": [
    "# check test residuals\n",
    "test_results = lrModel.evaluate(test_data)\n",
    "test_results.residuals.show()"
   ]
  },
  {
   "cell_type": "code",
   "execution_count": 62,
   "id": "28db6a92",
   "metadata": {},
   "outputs": [
    {
     "data": {
      "text/plain": [
       "10.563875149114937"
      ]
     },
     "execution_count": 62,
     "metadata": {},
     "output_type": "execute_result"
    }
   ],
   "source": [
    "# root mean squared error\n",
    "test_results.rootMeanSquaredError"
   ]
  },
  {
   "cell_type": "code",
   "execution_count": 63,
   "id": "92f189ef",
   "metadata": {},
   "outputs": [
    {
     "data": {
      "text/plain": [
       "0.978482632948155"
      ]
     },
     "execution_count": 63,
     "metadata": {},
     "output_type": "execute_result"
    }
   ],
   "source": [
    "# r2\n",
    "test_results.r2"
   ]
  }
 ],
 "metadata": {
  "kernelspec": {
   "display_name": "Python 3 (ipykernel)",
   "language": "python",
   "name": "python3"
  },
  "language_info": {
   "codemirror_mode": {
    "name": "ipython",
    "version": 3
   },
   "file_extension": ".py",
   "mimetype": "text/x-python",
   "name": "python",
   "nbconvert_exporter": "python",
   "pygments_lexer": "ipython3",
   "version": "3.10.6"
  }
 },
 "nbformat": 4,
 "nbformat_minor": 5
}
