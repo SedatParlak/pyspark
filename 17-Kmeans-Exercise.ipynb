{
 "cells": [
  {
   "cell_type": "markdown",
   "id": "dce31b61",
   "metadata": {},
   "source": [
    "# Spark - KMeans Exercise"
   ]
  },
  {
   "cell_type": "markdown",
   "id": "fa450b3a",
   "metadata": {},
   "source": [
    "**Imports**"
   ]
  },
  {
   "cell_type": "code",
   "execution_count": 16,
   "id": "b0291a0b",
   "metadata": {},
   "outputs": [],
   "source": [
    "import findspark\n",
    "findspark.init('/home/sedat/spark-3.3.2-bin-hadoop3')\n",
    "from pyspark.sql import SparkSession\n",
    "from pyspark.ml.clustering import KMeans\n",
    "from pyspark.ml.feature import VectorAssembler, StandardScaler"
   ]
  },
  {
   "cell_type": "markdown",
   "id": "0509da13",
   "metadata": {},
   "source": [
    "**Start spark session and read csv file**"
   ]
  },
  {
   "cell_type": "code",
   "execution_count": 4,
   "id": "2a487e02",
   "metadata": {},
   "outputs": [],
   "source": [
    "spark = SparkSession.builder.appName('seed_kmeans').getOrCreate()"
   ]
  },
  {
   "cell_type": "code",
   "execution_count": 41,
   "id": "78ecb8e7",
   "metadata": {},
   "outputs": [],
   "source": [
    "df = spark.read.csv('seeds_dataset.csv', inferSchema=True, header=True)"
   ]
  },
  {
   "cell_type": "code",
   "execution_count": 42,
   "id": "f08e8f95",
   "metadata": {},
   "outputs": [
    {
     "name": "stdout",
     "output_type": "stream",
     "text": [
      "root\n",
      " |-- area: double (nullable = true)\n",
      " |-- perimeter: double (nullable = true)\n",
      " |-- compactness: double (nullable = true)\n",
      " |-- length_of_kernel: double (nullable = true)\n",
      " |-- width_of_kernel: double (nullable = true)\n",
      " |-- asymmetry_coefficient: double (nullable = true)\n",
      " |-- length_of_groove: double (nullable = true)\n",
      "\n"
     ]
    }
   ],
   "source": [
    "df.printSchema()"
   ]
  },
  {
   "cell_type": "code",
   "execution_count": 6,
   "id": "2493edc9",
   "metadata": {},
   "outputs": [
    {
     "name": "stdout",
     "output_type": "stream",
     "text": [
      "+-----+---------+-----------+------------------+------------------+---------------------+------------------+\n",
      "| area|perimeter|compactness|  length_of_kernel|   width_of_kernel|asymmetry_coefficient|  length_of_groove|\n",
      "+-----+---------+-----------+------------------+------------------+---------------------+------------------+\n",
      "|15.26|    14.84|      0.871|             5.763|             3.312|                2.221|              5.22|\n",
      "|14.88|    14.57|     0.8811| 5.553999999999999|             3.333|                1.018|             4.956|\n",
      "|14.29|    14.09|      0.905|             5.291|3.3369999999999997|                2.699|             4.825|\n",
      "|13.84|    13.94|     0.8955|             5.324|3.3789999999999996|                2.259|             4.805|\n",
      "|16.14|    14.99|     0.9034|5.6579999999999995|             3.562|                1.355|             5.175|\n",
      "|14.38|    14.21|     0.8951|             5.386|             3.312|   2.4619999999999997|             4.956|\n",
      "|14.69|    14.49|     0.8799|             5.563|             3.259|   3.5860000000000003| 5.218999999999999|\n",
      "|14.11|     14.1|     0.8911|              5.42|             3.302|                  2.7|               5.0|\n",
      "|16.63|    15.46|     0.8747|             6.053|             3.465|                 2.04| 5.877000000000001|\n",
      "|16.44|    15.25|      0.888|5.8839999999999995|             3.505|                1.969|5.5329999999999995|\n",
      "|15.26|    14.85|     0.8696|5.7139999999999995|             3.242|                4.543|             5.314|\n",
      "|14.03|    14.16|     0.8796|             5.438|             3.201|   1.7169999999999999|             5.001|\n",
      "|13.89|    14.02|      0.888|             5.439|             3.199|                3.986|             4.738|\n",
      "|13.78|    14.06|     0.8759|             5.479|             3.156|                3.136|             4.872|\n",
      "|13.74|    14.05|     0.8744|             5.482|             3.114|                2.932|             4.825|\n",
      "|14.59|    14.28|     0.8993|             5.351|             3.333|                4.185| 4.781000000000001|\n",
      "|13.99|    13.83|     0.9183|             5.119|             3.383|                5.234| 4.781000000000001|\n",
      "|15.69|    14.75|     0.9058|             5.527|             3.514|                1.599|             5.046|\n",
      "| 14.7|    14.21|     0.9153|             5.205|             3.466|                1.767|             4.649|\n",
      "|12.72|    13.57|     0.8686|             5.226|             3.049|                4.102|             4.914|\n",
      "+-----+---------+-----------+------------------+------------------+---------------------+------------------+\n",
      "only showing top 20 rows\n",
      "\n"
     ]
    }
   ],
   "source": [
    "df.show()"
   ]
  },
  {
   "cell_type": "markdown",
   "id": "f1adac9a",
   "metadata": {},
   "source": [
    "**Total observation units**"
   ]
  },
  {
   "cell_type": "code",
   "execution_count": 7,
   "id": "aac53d8a",
   "metadata": {},
   "outputs": [
    {
     "data": {
      "text/plain": [
       "210"
      ]
     },
     "execution_count": 7,
     "metadata": {},
     "output_type": "execute_result"
    }
   ],
   "source": [
    "df.count()"
   ]
  },
  {
   "cell_type": "markdown",
   "id": "81c841e1",
   "metadata": {},
   "source": [
    "**Vector Assembler**"
   ]
  },
  {
   "cell_type": "code",
   "execution_count": 24,
   "id": "d5a9c26e",
   "metadata": {},
   "outputs": [],
   "source": [
    "assembler = VectorAssembler(inputCols=df.columns, outputCol='features')"
   ]
  },
  {
   "cell_type": "code",
   "execution_count": 25,
   "id": "0cc21084",
   "metadata": {},
   "outputs": [],
   "source": [
    "output = assembler.transform(df)"
   ]
  },
  {
   "cell_type": "code",
   "execution_count": 26,
   "id": "3c07b0ce",
   "metadata": {},
   "outputs": [
    {
     "name": "stdout",
     "output_type": "stream",
     "text": [
      "root\n",
      " |-- area: double (nullable = true)\n",
      " |-- perimeter: double (nullable = true)\n",
      " |-- compactness: double (nullable = true)\n",
      " |-- length_of_kernel: double (nullable = true)\n",
      " |-- width_of_kernel: double (nullable = true)\n",
      " |-- asymmetry_coefficient: double (nullable = true)\n",
      " |-- length_of_groove: double (nullable = true)\n",
      " |-- features: vector (nullable = true)\n",
      "\n"
     ]
    }
   ],
   "source": [
    "output.printSchema()"
   ]
  },
  {
   "cell_type": "markdown",
   "id": "f57e031b",
   "metadata": {},
   "source": [
    "**Standard Scaler**"
   ]
  },
  {
   "cell_type": "code",
   "execution_count": 27,
   "id": "c219ed75",
   "metadata": {},
   "outputs": [],
   "source": [
    "scaler = StandardScaler(inputCol='features', outputCol='scaledFeatures')"
   ]
  },
  {
   "cell_type": "code",
   "execution_count": 28,
   "id": "7930bf37",
   "metadata": {},
   "outputs": [],
   "source": [
    "scaled_df = scaler.fit(output).transform(output)"
   ]
  },
  {
   "cell_type": "code",
   "execution_count": 29,
   "id": "b3e46072",
   "metadata": {},
   "outputs": [
    {
     "name": "stdout",
     "output_type": "stream",
     "text": [
      "root\n",
      " |-- area: double (nullable = true)\n",
      " |-- perimeter: double (nullable = true)\n",
      " |-- compactness: double (nullable = true)\n",
      " |-- length_of_kernel: double (nullable = true)\n",
      " |-- width_of_kernel: double (nullable = true)\n",
      " |-- asymmetry_coefficient: double (nullable = true)\n",
      " |-- length_of_groove: double (nullable = true)\n",
      " |-- features: vector (nullable = true)\n",
      " |-- scaledFeatures: vector (nullable = true)\n",
      "\n"
     ]
    }
   ],
   "source": [
    "scaled_df.printSchema()"
   ]
  },
  {
   "cell_type": "markdown",
   "id": "d7460f34",
   "metadata": {},
   "source": [
    "**Final data and model**"
   ]
  },
  {
   "cell_type": "code",
   "execution_count": 32,
   "id": "d56b782a",
   "metadata": {},
   "outputs": [],
   "source": [
    "final_data = scaled_df.select('scaledFeatures')"
   ]
  },
  {
   "cell_type": "code",
   "execution_count": 33,
   "id": "7640f45d",
   "metadata": {},
   "outputs": [],
   "source": [
    "kmeans = KMeans(k=3, featuresCol='scaledFeatures')"
   ]
  },
  {
   "cell_type": "code",
   "execution_count": 34,
   "id": "60a14b07",
   "metadata": {},
   "outputs": [],
   "source": [
    "kmeans_model = kmeans.fit(final_data)"
   ]
  },
  {
   "cell_type": "code",
   "execution_count": 36,
   "id": "0468e96a",
   "metadata": {},
   "outputs": [
    {
     "data": {
      "text/plain": [
       "[array([ 6.31670546, 12.37109759, 37.39491396, 13.91155062,  9.748067  ,\n",
       "         2.39849968, 12.2661748 ]),\n",
       " array([ 4.06105916, 10.13979506, 35.80536984, 11.82133095,  7.50395937,\n",
       "         3.27184732, 10.42126018]),\n",
       " array([ 4.87257659, 10.88120146, 37.27692543, 12.3410157 ,  8.55443412,\n",
       "         1.81649011, 10.32998598])]"
      ]
     },
     "execution_count": 36,
     "metadata": {},
     "output_type": "execute_result"
    }
   ],
   "source": [
    "centers = kmeans_model.clusterCenters()\n",
    "centers"
   ]
  },
  {
   "cell_type": "code",
   "execution_count": 38,
   "id": "09f6b5c9",
   "metadata": {},
   "outputs": [
    {
     "name": "stdout",
     "output_type": "stream",
     "text": [
      "+--------------------+----------+\n",
      "|      scaledFeatures|prediction|\n",
      "+--------------------+----------+\n",
      "|[5.24452795332028...|         2|\n",
      "|[5.11393027165175...|         2|\n",
      "|[4.91116018695588...|         2|\n",
      "|[4.75650503761158...|         2|\n",
      "|[5.54696468981581...|         2|\n",
      "|[4.94209121682475...|         2|\n",
      "|[5.04863143081749...|         2|\n",
      "|[4.84929812721816...|         2|\n",
      "|[5.71536696354628...|         0|\n",
      "|[5.65006812271202...|         0|\n",
      "|[5.24452795332028...|         2|\n",
      "|[4.82180387844584...|         2|\n",
      "|[4.77368894309428...|         2|\n",
      "|[4.73588435103234...|         2|\n",
      "|[4.72213722664617...|         2|\n",
      "|[5.01426361985209...|         2|\n",
      "|[4.80805675405968...|         2|\n",
      "|[5.39230954047151...|         2|\n",
      "|[5.05206821191403...|         2|\n",
      "|[4.37158555479908...|         1|\n",
      "+--------------------+----------+\n",
      "only showing top 20 rows\n",
      "\n"
     ]
    }
   ],
   "source": [
    "kmeans_model.transform(final_data).show()"
   ]
  }
 ],
 "metadata": {
  "kernelspec": {
   "display_name": "Python 3 (ipykernel)",
   "language": "python",
   "name": "python3"
  },
  "language_info": {
   "codemirror_mode": {
    "name": "ipython",
    "version": 3
   },
   "file_extension": ".py",
   "mimetype": "text/x-python",
   "name": "python",
   "nbconvert_exporter": "python",
   "pygments_lexer": "ipython3",
   "version": "3.10.6"
  }
 },
 "nbformat": 4,
 "nbformat_minor": 5
}
