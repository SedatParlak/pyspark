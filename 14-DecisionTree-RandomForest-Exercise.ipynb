{
 "cells": [
  {
   "cell_type": "markdown",
   "id": "3c192f9a",
   "metadata": {},
   "source": [
    "# Spark - Decision Tree, Random Forest and GBT Classifier"
   ]
  },
  {
   "cell_type": "markdown",
   "id": "d9903899",
   "metadata": {},
   "source": [
    "**Imports**"
   ]
  },
  {
   "cell_type": "code",
   "execution_count": 59,
   "id": "0320e7fe",
   "metadata": {},
   "outputs": [],
   "source": [
    "import findspark\n",
    "findspark.init('/home/sedat/spark-3.3.2-bin-hadoop3')\n",
    "from pyspark.sql import SparkSession\n",
    "from pyspark.ml import pipeline\n",
    "from pyspark.ml.classification import DecisionTreeClassifier, RandomForestClassifier, GBTClassifier\n",
    "from pyspark.ml.evaluation import BinaryClassificationEvaluator, MultilabelClassificationEvaluator\n",
    "from pyspark.ml.feature import VectorAssembler, StringIndexer"
   ]
  },
  {
   "cell_type": "markdown",
   "id": "b8af9857",
   "metadata": {},
   "source": [
    "**Start spark session and read csv**"
   ]
  },
  {
   "cell_type": "code",
   "execution_count": 5,
   "id": "78c7ec33",
   "metadata": {},
   "outputs": [],
   "source": [
    "spark = SparkSession.builder.appName('my_trees').getOrCreate()"
   ]
  },
  {
   "cell_type": "code",
   "execution_count": 8,
   "id": "3e09c23f",
   "metadata": {},
   "outputs": [],
   "source": [
    "df = spark.read.csv('College.csv', inferSchema=True, header=True)"
   ]
  },
  {
   "cell_type": "code",
   "execution_count": 10,
   "id": "4ff54df8",
   "metadata": {},
   "outputs": [
    {
     "name": "stdout",
     "output_type": "stream",
     "text": [
      "root\n",
      " |-- School: string (nullable = true)\n",
      " |-- Private: string (nullable = true)\n",
      " |-- Apps: integer (nullable = true)\n",
      " |-- Accept: integer (nullable = true)\n",
      " |-- Enroll: integer (nullable = true)\n",
      " |-- Top10perc: integer (nullable = true)\n",
      " |-- Top25perc: integer (nullable = true)\n",
      " |-- F_Undergrad: integer (nullable = true)\n",
      " |-- P_Undergrad: integer (nullable = true)\n",
      " |-- Outstate: integer (nullable = true)\n",
      " |-- Room_Board: integer (nullable = true)\n",
      " |-- Books: integer (nullable = true)\n",
      " |-- Personal: integer (nullable = true)\n",
      " |-- PhD: integer (nullable = true)\n",
      " |-- Terminal: integer (nullable = true)\n",
      " |-- S_F_Ratio: double (nullable = true)\n",
      " |-- perc_alumni: integer (nullable = true)\n",
      " |-- Expend: integer (nullable = true)\n",
      " |-- Grad_Rate: integer (nullable = true)\n",
      "\n"
     ]
    }
   ],
   "source": [
    "df.printSchema()"
   ]
  },
  {
   "cell_type": "code",
   "execution_count": 11,
   "id": "16f4654c",
   "metadata": {},
   "outputs": [
    {
     "data": {
      "text/plain": [
       "777"
      ]
     },
     "execution_count": 11,
     "metadata": {},
     "output_type": "execute_result"
    }
   ],
   "source": [
    "df.count()"
   ]
  },
  {
   "cell_type": "code",
   "execution_count": 15,
   "id": "b7f54082",
   "metadata": {},
   "outputs": [
    {
     "data": {
      "text/plain": [
       "[Row(School='Abilene Christian University', Private='Yes', Apps=1660, Accept=1232, Enroll=721, Top10perc=23, Top25perc=52, F_Undergrad=2885, P_Undergrad=537, Outstate=7440, Room_Board=3300, Books=450, Personal=2200, PhD=70, Terminal=78, S_F_Ratio=18.1, perc_alumni=12, Expend=7041, Grad_Rate=60)]"
      ]
     },
     "execution_count": 15,
     "metadata": {},
     "output_type": "execute_result"
    }
   ],
   "source": [
    "df.head(1)"
   ]
  },
  {
   "cell_type": "markdown",
   "id": "2f65750d",
   "metadata": {},
   "source": [
    "**Vector Assembler**"
   ]
  },
  {
   "cell_type": "code",
   "execution_count": 16,
   "id": "c6986065",
   "metadata": {},
   "outputs": [
    {
     "data": {
      "text/plain": [
       "['School',\n",
       " 'Private',\n",
       " 'Apps',\n",
       " 'Accept',\n",
       " 'Enroll',\n",
       " 'Top10perc',\n",
       " 'Top25perc',\n",
       " 'F_Undergrad',\n",
       " 'P_Undergrad',\n",
       " 'Outstate',\n",
       " 'Room_Board',\n",
       " 'Books',\n",
       " 'Personal',\n",
       " 'PhD',\n",
       " 'Terminal',\n",
       " 'S_F_Ratio',\n",
       " 'perc_alumni',\n",
       " 'Expend',\n",
       " 'Grad_Rate']"
      ]
     },
     "execution_count": 16,
     "metadata": {},
     "output_type": "execute_result"
    }
   ],
   "source": [
    "df.columns"
   ]
  },
  {
   "cell_type": "code",
   "execution_count": 19,
   "id": "d59f6138",
   "metadata": {},
   "outputs": [
    {
     "data": {
      "text/plain": [
       "['Apps',\n",
       " 'Accept',\n",
       " 'Enroll',\n",
       " 'Top10perc',\n",
       " 'Top25perc',\n",
       " 'F_Undergrad',\n",
       " 'P_Undergrad',\n",
       " 'Outstate',\n",
       " 'Room_Board',\n",
       " 'Books',\n",
       " 'Personal',\n",
       " 'PhD',\n",
       " 'Terminal',\n",
       " 'S_F_Ratio',\n",
       " 'perc_alumni',\n",
       " 'Expend',\n",
       " 'Grad_Rate']"
      ]
     },
     "execution_count": 19,
     "metadata": {},
     "output_type": "execute_result"
    }
   ],
   "source": [
    "assembler_col = df.columns[2:]\n",
    "assembler_col"
   ]
  },
  {
   "cell_type": "code",
   "execution_count": 20,
   "id": "4a379d6c",
   "metadata": {},
   "outputs": [],
   "source": [
    "assembler = VectorAssembler(inputCols=assembler_col,\n",
    "                           outputCol='features')"
   ]
  },
  {
   "cell_type": "code",
   "execution_count": 23,
   "id": "157b163a",
   "metadata": {},
   "outputs": [],
   "source": [
    "output = assembler.transform(df)"
   ]
  },
  {
   "cell_type": "markdown",
   "id": "a69a961e",
   "metadata": {},
   "source": [
    "**String Indexer for Private column**"
   ]
  },
  {
   "cell_type": "code",
   "execution_count": 28,
   "id": "68868135",
   "metadata": {},
   "outputs": [],
   "source": [
    "indexer = StringIndexer(inputCol='Private', outputCol='Private_Index')"
   ]
  },
  {
   "cell_type": "code",
   "execution_count": 29,
   "id": "5658127f",
   "metadata": {},
   "outputs": [],
   "source": [
    "output_fixed = indexer.fit(output).transform(output)"
   ]
  },
  {
   "cell_type": "code",
   "execution_count": 30,
   "id": "fefeba8d",
   "metadata": {},
   "outputs": [
    {
     "name": "stdout",
     "output_type": "stream",
     "text": [
      "root\n",
      " |-- School: string (nullable = true)\n",
      " |-- Private: string (nullable = true)\n",
      " |-- Apps: integer (nullable = true)\n",
      " |-- Accept: integer (nullable = true)\n",
      " |-- Enroll: integer (nullable = true)\n",
      " |-- Top10perc: integer (nullable = true)\n",
      " |-- Top25perc: integer (nullable = true)\n",
      " |-- F_Undergrad: integer (nullable = true)\n",
      " |-- P_Undergrad: integer (nullable = true)\n",
      " |-- Outstate: integer (nullable = true)\n",
      " |-- Room_Board: integer (nullable = true)\n",
      " |-- Books: integer (nullable = true)\n",
      " |-- Personal: integer (nullable = true)\n",
      " |-- PhD: integer (nullable = true)\n",
      " |-- Terminal: integer (nullable = true)\n",
      " |-- S_F_Ratio: double (nullable = true)\n",
      " |-- perc_alumni: integer (nullable = true)\n",
      " |-- Expend: integer (nullable = true)\n",
      " |-- Grad_Rate: integer (nullable = true)\n",
      " |-- features: vector (nullable = true)\n",
      " |-- Private_Index: double (nullable = false)\n",
      "\n"
     ]
    }
   ],
   "source": [
    "output_fixed.printSchema()"
   ]
  },
  {
   "cell_type": "markdown",
   "id": "b80841ae",
   "metadata": {},
   "source": [
    "**Final data and split them**"
   ]
  },
  {
   "cell_type": "code",
   "execution_count": 39,
   "id": "cec684c9",
   "metadata": {},
   "outputs": [],
   "source": [
    "final_data = output_fixed.select('Private_Index', 'features')"
   ]
  },
  {
   "cell_type": "code",
   "execution_count": 40,
   "id": "41ceb188",
   "metadata": {},
   "outputs": [
    {
     "name": "stdout",
     "output_type": "stream",
     "text": [
      "+-------------+--------------------+\n",
      "|Private_Index|            features|\n",
      "+-------------+--------------------+\n",
      "|          0.0|[1660.0,1232.0,72...|\n",
      "|          0.0|[2186.0,1924.0,51...|\n",
      "|          0.0|[1428.0,1097.0,33...|\n",
      "|          0.0|[417.0,349.0,137....|\n",
      "|          0.0|[193.0,146.0,55.0...|\n",
      "|          0.0|[587.0,479.0,158....|\n",
      "|          0.0|[353.0,340.0,103....|\n",
      "|          0.0|[1899.0,1720.0,48...|\n",
      "|          0.0|[1038.0,839.0,227...|\n",
      "|          0.0|[582.0,498.0,172....|\n",
      "|          0.0|[1732.0,1425.0,47...|\n",
      "|          0.0|[2652.0,1900.0,48...|\n",
      "|          0.0|[1179.0,780.0,290...|\n",
      "|          0.0|[1267.0,1080.0,38...|\n",
      "|          0.0|[494.0,313.0,157....|\n",
      "|          0.0|[1420.0,1093.0,22...|\n",
      "|          0.0|[4302.0,992.0,418...|\n",
      "|          0.0|[1216.0,908.0,423...|\n",
      "|          0.0|[1130.0,704.0,322...|\n",
      "|          1.0|[3540.0,2001.0,10...|\n",
      "+-------------+--------------------+\n",
      "only showing top 20 rows\n",
      "\n"
     ]
    }
   ],
   "source": [
    "final_data.show()"
   ]
  },
  {
   "cell_type": "code",
   "execution_count": 41,
   "id": "893faeb5",
   "metadata": {},
   "outputs": [],
   "source": [
    "train_df, test_df = final_data.randomSplit([0.7, 0.3])"
   ]
  },
  {
   "cell_type": "markdown",
   "id": "392814b0",
   "metadata": {},
   "source": [
    "**Models and Fits**"
   ]
  },
  {
   "cell_type": "code",
   "execution_count": 45,
   "id": "a1be713e",
   "metadata": {},
   "outputs": [],
   "source": [
    "dtc = DecisionTreeClassifier(labelCol='Private_Index')\n",
    "rfc = RandomForestClassifier(labelCol='Private_Index')\n",
    "gbt = GBTClassifier(labelCol='Private_Index')"
   ]
  },
  {
   "cell_type": "code",
   "execution_count": 47,
   "id": "ca0a24c5",
   "metadata": {},
   "outputs": [],
   "source": [
    "dtc_model = dtc.fit(train_df)\n",
    "rfc_model = rfc.fit(train_df)\n",
    "gbt_model = gbt.fit(train_df)"
   ]
  },
  {
   "cell_type": "markdown",
   "id": "d5b6d47c",
   "metadata": {},
   "source": [
    "**Test Predictions**"
   ]
  },
  {
   "cell_type": "code",
   "execution_count": 48,
   "id": "45b63298",
   "metadata": {},
   "outputs": [],
   "source": [
    "dtc_preds = dtc_model.transform(test_df)\n",
    "rfc_preds = rfc_model.transform(test_df)\n",
    "gbt_preds = gbt_model.transform(test_df)"
   ]
  },
  {
   "cell_type": "markdown",
   "id": "7d37cab7",
   "metadata": {},
   "source": [
    "**Evaluations with Binary Classifier (roc_auc)**"
   ]
  },
  {
   "cell_type": "code",
   "execution_count": 50,
   "id": "389b7821",
   "metadata": {},
   "outputs": [],
   "source": [
    "my_binary_eval = BinaryClassificationEvaluator(labelCol='Private_Index')"
   ]
  },
  {
   "cell_type": "code",
   "execution_count": 58,
   "id": "2316563e",
   "metadata": {},
   "outputs": [
    {
     "name": "stdout",
     "output_type": "stream",
     "text": [
      "DTC roc_auc score: 0.9203781512605043\n",
      "RFC roc_auc score: 0.9782352941176468\n",
      "GBT roc_auc score: 0.9673109243697477\n"
     ]
    }
   ],
   "source": [
    "print('DTC roc_auc score:', my_binary_eval.evaluate(dtc_preds))\n",
    "print('RFC roc_auc score:', my_binary_eval.evaluate(rfc_preds))\n",
    "print('GBT roc_auc score:', my_binary_eval.evaluate(gbt_preds))"
   ]
  },
  {
   "cell_type": "markdown",
   "id": "79dd2cb4",
   "metadata": {},
   "source": [
    "**Evaluations with Multiple Classifier (accuracy, recal, precision, f1)**"
   ]
  },
  {
   "cell_type": "code",
   "execution_count": 70,
   "id": "fa8b7ecb",
   "metadata": {},
   "outputs": [],
   "source": [
    "my_acc_eval = MulticlassClassificationEvaluator(labelCol='Private_Index', metricName='f1')"
   ]
  },
  {
   "cell_type": "code",
   "execution_count": 72,
   "id": "511c2eb6",
   "metadata": {
    "scrolled": true
   },
   "outputs": [
    {
     "name": "stdout",
     "output_type": "stream",
     "text": [
      "DTC f1 score: 0.9226304455687399\n",
      "RFC f1 score: 0.9301962489496332\n",
      "GBT f1 score: 0.9265559531455485\n"
     ]
    }
   ],
   "source": [
    "print('DTC f1 score:', my_acc_eval.evaluate(dtc_preds))\n",
    "print('RFC f1 score:', my_acc_eval.evaluate(rfc_preds))\n",
    "print('GBT f1 score:', my_acc_eval.evaluate(gbt_preds))"
   ]
  }
 ],
 "metadata": {
  "kernelspec": {
   "display_name": "Python 3 (ipykernel)",
   "language": "python",
   "name": "python3"
  },
  "language_info": {
   "codemirror_mode": {
    "name": "ipython",
    "version": 3
   },
   "file_extension": ".py",
   "mimetype": "text/x-python",
   "name": "python",
   "nbconvert_exporter": "python",
   "pygments_lexer": "ipython3",
   "version": "3.10.6"
  }
 },
 "nbformat": 4,
 "nbformat_minor": 5
}
