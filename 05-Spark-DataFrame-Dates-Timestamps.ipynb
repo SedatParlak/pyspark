{
 "cells": [
  {
   "cell_type": "markdown",
   "id": "33563d1b",
   "metadata": {},
   "source": [
    "# Spark DataFrame - Dates and Timestamps"
   ]
  },
  {
   "cell_type": "markdown",
   "id": "96f33851",
   "metadata": {},
   "source": [
    "**Imports and read csv file**"
   ]
  },
  {
   "cell_type": "code",
   "execution_count": 27,
   "id": "78ba427b",
   "metadata": {},
   "outputs": [],
   "source": [
    "import findspark\n",
    "findspark.init('/home/sedat/spark-3.3.2-bin-hadoop3')\n",
    "from pyspark.sql import SparkSession\n",
    "from pyspark.sql.functions import (dayofmonth, dayofyear, \n",
    "                                   weekofyear, format_number,\n",
    "                                   hour, month, year, date_format, days)"
   ]
  },
  {
   "cell_type": "code",
   "execution_count": 3,
   "id": "4999e5a7",
   "metadata": {},
   "outputs": [],
   "source": [
    "spark = SparkSession.builder.appName('dates').getOrCreate()"
   ]
  },
  {
   "cell_type": "code",
   "execution_count": 5,
   "id": "b3423a05",
   "metadata": {},
   "outputs": [],
   "source": [
    "df = spark.read.csv('appl_stock.csv', header=True, inferSchema=True)"
   ]
  },
  {
   "cell_type": "code",
   "execution_count": 6,
   "id": "5ce7f13a",
   "metadata": {},
   "outputs": [
    {
     "name": "stdout",
     "output_type": "stream",
     "text": [
      "root\n",
      " |-- Date: timestamp (nullable = true)\n",
      " |-- Open: double (nullable = true)\n",
      " |-- High: double (nullable = true)\n",
      " |-- Low: double (nullable = true)\n",
      " |-- Close: double (nullable = true)\n",
      " |-- Volume: integer (nullable = true)\n",
      " |-- Adj Close: double (nullable = true)\n",
      "\n"
     ]
    }
   ],
   "source": [
    "df.printSchema()"
   ]
  },
  {
   "cell_type": "code",
   "execution_count": 11,
   "id": "2fe8c2ff",
   "metadata": {},
   "outputs": [
    {
     "data": {
      "text/plain": [
       "[Row(Date=datetime.datetime(2010, 1, 4, 0, 0), Open=213.429998, High=214.499996, Low=212.38000099999996, Close=214.009998, Volume=123432400, Adj Close=27.727039)]"
      ]
     },
     "execution_count": 11,
     "metadata": {},
     "output_type": "execute_result"
    }
   ],
   "source": [
    "df.head(1)"
   ]
  },
  {
   "cell_type": "markdown",
   "id": "966b633d",
   "metadata": {},
   "source": [
    "**Show first 2 columns**"
   ]
  },
  {
   "cell_type": "code",
   "execution_count": 12,
   "id": "d6501482",
   "metadata": {},
   "outputs": [
    {
     "data": {
      "text/plain": [
       "['Date', 'Open', 'High', 'Low', 'Close', 'Volume', 'Adj Close']"
      ]
     },
     "execution_count": 12,
     "metadata": {},
     "output_type": "execute_result"
    }
   ],
   "source": [
    "df.columns"
   ]
  },
  {
   "cell_type": "code",
   "execution_count": 15,
   "id": "0aec51e4",
   "metadata": {},
   "outputs": [
    {
     "name": "stdout",
     "output_type": "stream",
     "text": [
      "+-------------------+------------------+\n",
      "|               Date|              Open|\n",
      "+-------------------+------------------+\n",
      "|2010-01-04 00:00:00|        213.429998|\n",
      "|2010-01-05 00:00:00|        214.599998|\n",
      "|2010-01-06 00:00:00|        214.379993|\n",
      "|2010-01-07 00:00:00|            211.75|\n",
      "|2010-01-08 00:00:00|        210.299994|\n",
      "|2010-01-11 00:00:00|212.79999700000002|\n",
      "|2010-01-12 00:00:00|209.18999499999998|\n",
      "|2010-01-13 00:00:00|        207.870005|\n",
      "|2010-01-14 00:00:00|210.11000299999998|\n",
      "|2010-01-15 00:00:00|210.92999500000002|\n",
      "|2010-01-19 00:00:00|        208.330002|\n",
      "|2010-01-20 00:00:00|        214.910006|\n",
      "|2010-01-21 00:00:00|        212.079994|\n",
      "|2010-01-22 00:00:00|206.78000600000001|\n",
      "|2010-01-25 00:00:00|202.51000200000001|\n",
      "|2010-01-26 00:00:00|205.95000100000001|\n",
      "|2010-01-27 00:00:00|        206.849995|\n",
      "|2010-01-28 00:00:00|        204.930004|\n",
      "|2010-01-29 00:00:00|        201.079996|\n",
      "|2010-02-01 00:00:00|192.36999699999998|\n",
      "+-------------------+------------------+\n",
      "only showing top 20 rows\n",
      "\n"
     ]
    }
   ],
   "source": [
    "df.select(df.columns[0:2]).show()"
   ]
  },
  {
   "cell_type": "markdown",
   "id": "4779292b",
   "metadata": {},
   "source": [
    "**Day of month, week of year and day of year**"
   ]
  },
  {
   "cell_type": "code",
   "execution_count": 26,
   "id": "30f16a90",
   "metadata": {},
   "outputs": [
    {
     "name": "stdout",
     "output_type": "stream",
     "text": [
      "+-------------------+----------------+----------------+---------------+\n",
      "|               Date|dayofmonth(Date)|weekofyear(Date)|dayofyear(Date)|\n",
      "+-------------------+----------------+----------------+---------------+\n",
      "|2010-01-04 00:00:00|               4|               1|              4|\n",
      "|2010-01-05 00:00:00|               5|               1|              5|\n",
      "|2010-01-06 00:00:00|               6|               1|              6|\n",
      "|2010-01-07 00:00:00|               7|               1|              7|\n",
      "|2010-01-08 00:00:00|               8|               1|              8|\n",
      "|2010-01-11 00:00:00|              11|               2|             11|\n",
      "|2010-01-12 00:00:00|              12|               2|             12|\n",
      "|2010-01-13 00:00:00|              13|               2|             13|\n",
      "|2010-01-14 00:00:00|              14|               2|             14|\n",
      "|2010-01-15 00:00:00|              15|               2|             15|\n",
      "|2010-01-19 00:00:00|              19|               3|             19|\n",
      "|2010-01-20 00:00:00|              20|               3|             20|\n",
      "|2010-01-21 00:00:00|              21|               3|             21|\n",
      "|2010-01-22 00:00:00|              22|               3|             22|\n",
      "|2010-01-25 00:00:00|              25|               4|             25|\n",
      "|2010-01-26 00:00:00|              26|               4|             26|\n",
      "|2010-01-27 00:00:00|              27|               4|             27|\n",
      "|2010-01-28 00:00:00|              28|               4|             28|\n",
      "|2010-01-29 00:00:00|              29|               4|             29|\n",
      "|2010-02-01 00:00:00|               1|               5|             32|\n",
      "+-------------------+----------------+----------------+---------------+\n",
      "only showing top 20 rows\n",
      "\n"
     ]
    }
   ],
   "source": [
    "df.select(df['Date'], dayofmonth(df['Date']), weekofyear(df['Date']), dayofyear(df['Date'])).show()"
   ]
  },
  {
   "cell_type": "markdown",
   "id": "d21e2435",
   "metadata": {},
   "source": [
    "**Year, month, hour**"
   ]
  },
  {
   "cell_type": "code",
   "execution_count": 37,
   "id": "bfe94f9b",
   "metadata": {},
   "outputs": [
    {
     "name": "stdout",
     "output_type": "stream",
     "text": [
      "+-------------------+----------+-----------+----------+\n",
      "|               Date|year(Date)|month(Date)|hour(Date)|\n",
      "+-------------------+----------+-----------+----------+\n",
      "|2010-01-04 00:00:00|      2010|          1|         0|\n",
      "|2010-01-05 00:00:00|      2010|          1|         0|\n",
      "|2010-01-06 00:00:00|      2010|          1|         0|\n",
      "|2010-01-07 00:00:00|      2010|          1|         0|\n",
      "|2010-01-08 00:00:00|      2010|          1|         0|\n",
      "|2010-01-11 00:00:00|      2010|          1|         0|\n",
      "|2010-01-12 00:00:00|      2010|          1|         0|\n",
      "|2010-01-13 00:00:00|      2010|          1|         0|\n",
      "|2010-01-14 00:00:00|      2010|          1|         0|\n",
      "|2010-01-15 00:00:00|      2010|          1|         0|\n",
      "|2010-01-19 00:00:00|      2010|          1|         0|\n",
      "|2010-01-20 00:00:00|      2010|          1|         0|\n",
      "|2010-01-21 00:00:00|      2010|          1|         0|\n",
      "|2010-01-22 00:00:00|      2010|          1|         0|\n",
      "|2010-01-25 00:00:00|      2010|          1|         0|\n",
      "|2010-01-26 00:00:00|      2010|          1|         0|\n",
      "|2010-01-27 00:00:00|      2010|          1|         0|\n",
      "|2010-01-28 00:00:00|      2010|          1|         0|\n",
      "|2010-01-29 00:00:00|      2010|          1|         0|\n",
      "|2010-02-01 00:00:00|      2010|          2|         0|\n",
      "+-------------------+----------+-----------+----------+\n",
      "only showing top 20 rows\n",
      "\n"
     ]
    }
   ],
   "source": [
    "df.select(df['Date'], year(df['Date']), month(df['Date']), hour(df['Date'])).show()"
   ]
  },
  {
   "cell_type": "markdown",
   "id": "90004f76",
   "metadata": {},
   "source": [
    "**Add year as a new column to df**"
   ]
  },
  {
   "cell_type": "code",
   "execution_count": 58,
   "id": "4ab3ffd4",
   "metadata": {},
   "outputs": [],
   "source": [
    "new_df = df.withColumn('Year', year(df['Date']))"
   ]
  },
  {
   "cell_type": "code",
   "execution_count": 72,
   "id": "8c5fde5c",
   "metadata": {},
   "outputs": [],
   "source": [
    "results = new_df.groupBy('Year').mean().select(['Year', 'avg(Close)'])"
   ]
  },
  {
   "cell_type": "code",
   "execution_count": 74,
   "id": "9eecfd66",
   "metadata": {},
   "outputs": [
    {
     "name": "stdout",
     "output_type": "stream",
     "text": [
      "+----+---------------------+\n",
      "|Year|Average Closing Price|\n",
      "+----+---------------------+\n",
      "|2015|   120.03999980555547|\n",
      "|2013|    472.6348802857143|\n",
      "|2014|    295.4023416507935|\n",
      "|2012|    576.0497195640002|\n",
      "|2016|   104.60400786904763|\n",
      "|2010|    259.8424600000002|\n",
      "|2011|   364.00432532142867|\n",
      "+----+---------------------+\n",
      "\n"
     ]
    }
   ],
   "source": [
    "new = results.withColumnRenamed('avg(Close)', 'Average Closing Price')\n",
    "new.show()"
   ]
  },
  {
   "cell_type": "code",
   "execution_count": 78,
   "id": "d15a7cd8",
   "metadata": {},
   "outputs": [
    {
     "name": "stdout",
     "output_type": "stream",
     "text": [
      "+----+---------------------+\n",
      "|Year|Average Closing Price|\n",
      "+----+---------------------+\n",
      "|2015|               120.04|\n",
      "|2013|               472.63|\n",
      "|2014|               295.40|\n",
      "|2012|               576.05|\n",
      "|2016|               104.60|\n",
      "|2010|               259.84|\n",
      "|2011|               364.00|\n",
      "+----+---------------------+\n",
      "\n"
     ]
    }
   ],
   "source": [
    "new.select('Year', format_number('Average Closing Price', 2).alias('Average Closing Price')).show()"
   ]
  }
 ],
 "metadata": {
  "kernelspec": {
   "display_name": "Python 3 (ipykernel)",
   "language": "python",
   "name": "python3"
  },
  "language_info": {
   "codemirror_mode": {
    "name": "ipython",
    "version": 3
   },
   "file_extension": ".py",
   "mimetype": "text/x-python",
   "name": "python",
   "nbconvert_exporter": "python",
   "pygments_lexer": "ipython3",
   "version": "3.10.6"
  }
 },
 "nbformat": 4,
 "nbformat_minor": 5
}
