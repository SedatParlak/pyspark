{
 "cells": [
  {
   "cell_type": "markdown",
   "id": "3c0b004b",
   "metadata": {},
   "source": [
    "# Clustering Consulting Project - Solutions\n",
    "\n",
    "A large technology firm needs your help, they've been hacked! Luckily their forensic engineers have grabbed valuable data about the hacks, including information like session time,locations, wpm typing speed, etc. The forensic engineer relates to you what she has been able to figure out so far, she has been able to grab meta data of each session that the hackers used to connect to their servers. These are the features of the data:\n",
    "\n",
    "* 'Session_Connection_Time': How long the session lasted in minutes\n",
    "* 'Bytes Transferred': Number of MB transferred during session\n",
    "* 'Kali_Trace_Used': Indicates if the hacker was using Kali Linux\n",
    "* 'Servers_Corrupted': Number of server corrupted during the attack\n",
    "* 'Pages_Corrupted': Number of pages illegally accessed\n",
    "* 'Location': Location attack came from (Probably useless because the hackers used VPNs)\n",
    "* 'WPM_Typing_Speed': Their estimated typing speed based on session logs.\n",
    "\n",
    "\n",
    "The technology firm has 3 potential hackers that perpetrated the attack. Their certain of the first two hackers but they aren't very sure if the third hacker was involved or not. They have requested your help! Can you help figure out whether or not the third suspect had anything to do with the attacks, or was it just two hackers? It's probably not possible to know for sure, but maybe what you've just learned about Clustering can help!\n",
    "\n",
    "**One last key fact, the forensic engineer knows that the hackers trade off attacks. Meaning they should each have roughly the same amount of attacks. For example if there were 100 total attacks, then in a 2 hacker situation each should have about 50 hacks, in a three hacker situation each would have about 33 hacks. The engineer believes this is the key element to solving this, but doesn't know how to distinguish this unlabeled data into groups of hackers.**"
   ]
  },
  {
   "cell_type": "markdown",
   "id": "42fcd550",
   "metadata": {},
   "source": [
    "**Imports**"
   ]
  },
  {
   "cell_type": "code",
   "execution_count": 46,
   "id": "37862308",
   "metadata": {},
   "outputs": [],
   "source": [
    "import findspark\n",
    "findspark.init('/home/sedat/spark-3.3.2-bin-hadoop3')\n",
    "from pyspark.sql import SparkSession\n",
    "from pyspark.ml.clustering import KMeans\n",
    "from pyspark.ml.feature import VectorAssembler, StandardScaler\n",
    "from pyspark.ml.evaluation import ClusteringEvaluator"
   ]
  },
  {
   "cell_type": "markdown",
   "id": "c165ed6a",
   "metadata": {},
   "source": [
    "**Start spark session and read csv file**"
   ]
  },
  {
   "cell_type": "code",
   "execution_count": 3,
   "id": "9c6b2c29",
   "metadata": {},
   "outputs": [],
   "source": [
    "spark = SparkSession.builder.appName('hack_kmeans').getOrCreate()"
   ]
  },
  {
   "cell_type": "code",
   "execution_count": 4,
   "id": "941d9ff6",
   "metadata": {},
   "outputs": [],
   "source": [
    "df = spark.read.csv('hack_data.csv', inferSchema=True, header=True)"
   ]
  },
  {
   "cell_type": "code",
   "execution_count": 6,
   "id": "9899c83c",
   "metadata": {},
   "outputs": [
    {
     "name": "stdout",
     "output_type": "stream",
     "text": [
      "root\n",
      " |-- Session_Connection_Time: double (nullable = true)\n",
      " |-- Bytes Transferred: double (nullable = true)\n",
      " |-- Kali_Trace_Used: integer (nullable = true)\n",
      " |-- Servers_Corrupted: double (nullable = true)\n",
      " |-- Pages_Corrupted: double (nullable = true)\n",
      " |-- Location: string (nullable = true)\n",
      " |-- WPM_Typing_Speed: double (nullable = true)\n",
      "\n"
     ]
    }
   ],
   "source": [
    "df.printSchema()"
   ]
  },
  {
   "cell_type": "code",
   "execution_count": 7,
   "id": "3c09594d",
   "metadata": {},
   "outputs": [
    {
     "data": {
      "text/plain": [
       "334"
      ]
     },
     "execution_count": 7,
     "metadata": {},
     "output_type": "execute_result"
    }
   ],
   "source": [
    "df.count()"
   ]
  },
  {
   "cell_type": "code",
   "execution_count": 8,
   "id": "c411848a",
   "metadata": {},
   "outputs": [
    {
     "data": {
      "text/plain": [
       "[Row(Session_Connection_Time=8.0, Bytes Transferred=391.09, Kali_Trace_Used=1, Servers_Corrupted=2.96, Pages_Corrupted=7.0, Location='Slovenia', WPM_Typing_Speed=72.37)]"
      ]
     },
     "execution_count": 8,
     "metadata": {},
     "output_type": "execute_result"
    }
   ],
   "source": [
    "df.head(1)"
   ]
  },
  {
   "cell_type": "markdown",
   "id": "eb7c31de",
   "metadata": {},
   "source": [
    "**Vector Assembler**"
   ]
  },
  {
   "cell_type": "code",
   "execution_count": 29,
   "id": "8158ef83",
   "metadata": {},
   "outputs": [],
   "source": [
    "in_cols = df.columns"
   ]
  },
  {
   "cell_type": "code",
   "execution_count": 30,
   "id": "e0e9f4aa",
   "metadata": {},
   "outputs": [
    {
     "data": {
      "text/plain": [
       "['Session_Connection_Time',\n",
       " 'Bytes Transferred',\n",
       " 'Kali_Trace_Used',\n",
       " 'Servers_Corrupted',\n",
       " 'Pages_Corrupted',\n",
       " 'WPM_Typing_Speed']"
      ]
     },
     "execution_count": 30,
     "metadata": {},
     "output_type": "execute_result"
    }
   ],
   "source": [
    "in_cols.remove('Location')\n",
    "in_cols"
   ]
  },
  {
   "cell_type": "code",
   "execution_count": 33,
   "id": "28a1ebf3",
   "metadata": {},
   "outputs": [],
   "source": [
    "assembler = VectorAssembler(inputCols=in_cols, outputCol='features')"
   ]
  },
  {
   "cell_type": "code",
   "execution_count": 35,
   "id": "e48bd18c",
   "metadata": {},
   "outputs": [],
   "source": [
    "assembler_df = assembler.transform(df)"
   ]
  },
  {
   "cell_type": "markdown",
   "id": "c1a2ddcb",
   "metadata": {},
   "source": [
    "**Standard Scaler**"
   ]
  },
  {
   "cell_type": "code",
   "execution_count": 38,
   "id": "b12b1f70",
   "metadata": {},
   "outputs": [],
   "source": [
    "scaler = StandardScaler(inputCol='features', outputCol='scaledFeatures')"
   ]
  },
  {
   "cell_type": "code",
   "execution_count": 39,
   "id": "5f9ac184",
   "metadata": {},
   "outputs": [],
   "source": [
    "scaled_df = scaler.fit(assembler_df).transform(assembler_df)"
   ]
  },
  {
   "cell_type": "markdown",
   "id": "dd47a4dd",
   "metadata": {},
   "source": [
    "**Final data and model**"
   ]
  },
  {
   "cell_type": "code",
   "execution_count": 40,
   "id": "13811437",
   "metadata": {},
   "outputs": [],
   "source": [
    "final_data = scaled_df.select('scaledFeatures')"
   ]
  },
  {
   "cell_type": "code",
   "execution_count": 42,
   "id": "54680fbc",
   "metadata": {},
   "outputs": [
    {
     "name": "stdout",
     "output_type": "stream",
     "text": [
      "+--------------------+\n",
      "|      scaledFeatures|\n",
      "+--------------------+\n",
      "|[0.56785108466505...|\n",
      "|[1.41962771166263...|\n",
      "|[2.20042295307707...|\n",
      "|[0.14196277116626...|\n",
      "|[1.41962771166263...|\n",
      "|[0.07098138558313...|\n",
      "|[1.27766494049636...|\n",
      "|[1.56159048282889...|\n",
      "|[1.06472078374697...|\n",
      "|[0.85177662699757...|\n",
      "|[1.06472078374697...|\n",
      "|[2.27140433866020...|\n",
      "|[1.63257186841202...|\n",
      "|[0.63883247024818...|\n",
      "|[1.91649741074455...|\n",
      "|[0.85177662699757...|\n",
      "|[1.49060909724576...|\n",
      "|[0.70981385583131...|\n",
      "|[1.41962771166263...|\n",
      "|[1.56159048282889...|\n",
      "+--------------------+\n",
      "only showing top 20 rows\n",
      "\n"
     ]
    }
   ],
   "source": [
    "final_data.show()"
   ]
  },
  {
   "cell_type": "markdown",
   "id": "2ac55e6c",
   "metadata": {},
   "source": [
    "**Model and find out its 2 or 3!**"
   ]
  },
  {
   "cell_type": "code",
   "execution_count": 43,
   "id": "afe20817",
   "metadata": {},
   "outputs": [],
   "source": [
    "kmeans_2 = KMeans(featuresCol='scaledFeatures', k=2)\n",
    "kmeans_3 = KMeans(featuresCol='scaledFeatures', k=3)"
   ]
  },
  {
   "cell_type": "code",
   "execution_count": 44,
   "id": "a788796c",
   "metadata": {},
   "outputs": [],
   "source": [
    "model_k2 = kmeans_2.fit(final_data)\n",
    "model_k3 = kmeans_3.fit(final_data)"
   ]
  },
  {
   "cell_type": "code",
   "execution_count": 47,
   "id": "d51c663c",
   "metadata": {},
   "outputs": [],
   "source": [
    "prediction_k2 = model_k2.transform(final_data)\n",
    "prediction_k3 = model_k3.transform(final_data)"
   ]
  },
  {
   "cell_type": "code",
   "execution_count": 51,
   "id": "c296ea42",
   "metadata": {},
   "outputs": [
    {
     "name": "stdout",
     "output_type": "stream",
     "text": [
      "+--------------------+----------+\n",
      "|      scaledFeatures|prediction|\n",
      "+--------------------+----------+\n",
      "|[0.56785108466505...|         1|\n",
      "|[1.41962771166263...|         1|\n",
      "|[2.20042295307707...|         1|\n",
      "|[0.14196277116626...|         1|\n",
      "|[1.41962771166263...|         1|\n",
      "|[0.07098138558313...|         1|\n",
      "|[1.27766494049636...|         1|\n",
      "|[1.56159048282889...|         1|\n",
      "|[1.06472078374697...|         1|\n",
      "|[0.85177662699757...|         1|\n",
      "|[1.06472078374697...|         1|\n",
      "|[2.27140433866020...|         1|\n",
      "|[1.63257186841202...|         1|\n",
      "|[0.63883247024818...|         1|\n",
      "|[1.91649741074455...|         1|\n",
      "|[0.85177662699757...|         1|\n",
      "|[1.49060909724576...|         1|\n",
      "|[0.70981385583131...|         1|\n",
      "|[1.41962771166263...|         1|\n",
      "|[1.56159048282889...|         1|\n",
      "+--------------------+----------+\n",
      "only showing top 20 rows\n",
      "\n"
     ]
    }
   ],
   "source": [
    "prediction_k2.show()"
   ]
  },
  {
   "cell_type": "markdown",
   "id": "2e06e88e",
   "metadata": {},
   "source": [
    "**Evaluate clustering by computing Silhouette score model_k2**"
   ]
  },
  {
   "cell_type": "code",
   "execution_count": 52,
   "id": "7c6b9d53",
   "metadata": {},
   "outputs": [
    {
     "name": "stdout",
     "output_type": "stream",
     "text": [
      "Silhouette with squared euclidean distance = 0.817646009401248\n"
     ]
    }
   ],
   "source": [
    "evaluator = ClusteringEvaluator(featuresCol='scaledFeatures')\n",
    "silhouette = evaluator.evaluate(prediction_k2)\n",
    "print(\"Silhouette with squared euclidean distance = \" + str(silhouette))"
   ]
  },
  {
   "cell_type": "markdown",
   "id": "2e5757c7",
   "metadata": {},
   "source": [
    "**Evaluate clustering by computing Silhouette score model_k3**"
   ]
  },
  {
   "cell_type": "code",
   "execution_count": 54,
   "id": "afc8601c",
   "metadata": {},
   "outputs": [
    {
     "name": "stdout",
     "output_type": "stream",
     "text": [
      "Silhouette with squared euclidean distance = 0.7608455651454915\n"
     ]
    }
   ],
   "source": [
    "# Evaluate clustering by computing Silhouette score\n",
    "silhouette = evaluator.evaluate(prediction_k3)\n",
    "print(\"Silhouette with squared euclidean distance = \" + str(silhouette))"
   ]
  },
  {
   "cell_type": "markdown",
   "id": "725c9697",
   "metadata": {},
   "source": [
    "**Nothing definitive can be said with the above, but wait! The last key fact that the engineer mentioned was that the attacks should be evenly numbered between the hackers!**"
   ]
  },
  {
   "cell_type": "code",
   "execution_count": 56,
   "id": "57a6133e",
   "metadata": {},
   "outputs": [
    {
     "name": "stdout",
     "output_type": "stream",
     "text": [
      "+----------+-----+\n",
      "|prediction|count|\n",
      "+----------+-----+\n",
      "|         1|  167|\n",
      "|         0|  167|\n",
      "+----------+-----+\n",
      "\n"
     ]
    }
   ],
   "source": [
    "model_k2.transform(final_data).groupBy('prediction').count().show()"
   ]
  },
  {
   "cell_type": "code",
   "execution_count": 57,
   "id": "0141ebc4",
   "metadata": {},
   "outputs": [
    {
     "name": "stdout",
     "output_type": "stream",
     "text": [
      "+----------+-----+\n",
      "|prediction|count|\n",
      "+----------+-----+\n",
      "|         1|  167|\n",
      "|         2|   88|\n",
      "|         0|   79|\n",
      "+----------+-----+\n",
      "\n"
     ]
    }
   ],
   "source": [
    "model_k3.transform(final_data).groupBy('prediction').count().show()"
   ]
  },
  {
   "cell_type": "markdown",
   "id": "c2661619",
   "metadata": {},
   "source": [
    "**It was 2 hackers, in fact, our clustering algorithm created two equally sized clusters with K=2, no way that is a coincidence!**"
   ]
  }
 ],
 "metadata": {
  "kernelspec": {
   "display_name": "Python 3 (ipykernel)",
   "language": "python",
   "name": "python3"
  },
  "language_info": {
   "codemirror_mode": {
    "name": "ipython",
    "version": 3
   },
   "file_extension": ".py",
   "mimetype": "text/x-python",
   "name": "python",
   "nbconvert_exporter": "python",
   "pygments_lexer": "ipython3",
   "version": "3.10.6"
  }
 },
 "nbformat": 4,
 "nbformat_minor": 5
}
