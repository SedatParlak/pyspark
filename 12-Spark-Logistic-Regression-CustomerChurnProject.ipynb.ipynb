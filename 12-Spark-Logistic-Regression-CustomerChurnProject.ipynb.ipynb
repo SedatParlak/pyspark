{
 "cells": [
  {
   "cell_type": "markdown",
   "metadata": {},
   "source": [
    "# Logistic Regression Consulting Project"
   ]
  },
  {
   "cell_type": "markdown",
   "metadata": {
    "collapsed": true
   },
   "source": [
    "## Binary Customer Churn\n",
    "\n",
    "A marketing agency has many customers that use their service to produce ads for the client/customer websites. They've noticed that they have quite a bit of churn in clients. They basically randomly assign account managers right now, but want you to create a machine learning model that will help predict which customers will churn (stop buying their service) so that they can correctly assign the customers most at risk to churn an account manager. Luckily they have some historical data, can you help them out? Create a classification algorithm that will help classify whether or not a customer churned. Then the company can test this against incoming data for future customers to predict which customers will churn and assign them an account manager.\n",
    "\n",
    "The data is saved as customer_churn.csv. Here are the fields and their definitions:\n",
    "\n",
    "    Name : Name of the latest contact at Company\n",
    "    Age: Customer Age\n",
    "    Total_Purchase: Total Ads Purchased\n",
    "    Account_Manager: Binary 0=No manager, 1= Account manager assigned\n",
    "    Years: Totaly Years as a customer\n",
    "    Num_sites: Number of websites that use the service.\n",
    "    Onboard_date: Date that the name of the latest contact was onboarded\n",
    "    Location: Client HQ Address\n",
    "    Company: Name of Client Company\n",
    "    \n",
    "Once you've created the model and evaluated it, test out the model on some new data (you can think of this almost like a hold-out set) that your client has provided, saved under new_customers.csv. The client wants to know which customers are most likely to churn given this data (they don't have the label yet)."
   ]
  },
  {
   "cell_type": "markdown",
   "metadata": {},
   "source": [
    "**Imports**"
   ]
  },
  {
   "cell_type": "code",
   "execution_count": 36,
   "metadata": {},
   "outputs": [],
   "source": [
    "import findspark\n",
    "findspark.init('/home/sedat/spark-3.3.2-bin-hadoop3')\n",
    "from pyspark.sql import SparkSession\n",
    "from pyspark.ml.classification import LogisticRegression\n",
    "from pyspark.ml.evaluation import BinaryClassificationEvaluator, MulticlassClassificationEvaluator\n",
    "from pyspark.sql.functions import count, col, isnan, when\n",
    "from pyspark.ml.feature import StringIndexer, OneHotEncoder, VectorIndexer, VectorAssembler\n",
    "from pyspark.ml import Pipeline\n",
    "from pyspark.sql.functions import (dayofmonth, dayofyear, \n",
    "                                   weekofyear, format_number,\n",
    "                                   hour, month, year, date_format, days)"
   ]
  },
  {
   "cell_type": "markdown",
   "metadata": {},
   "source": [
    "**Start session and read csv file**"
   ]
  },
  {
   "cell_type": "code",
   "execution_count": 4,
   "metadata": {},
   "outputs": [],
   "source": [
    "spark = SparkSession.builder.appName('customer_churn').getOrCreate()"
   ]
  },
  {
   "cell_type": "code",
   "execution_count": 59,
   "metadata": {},
   "outputs": [],
   "source": [
    "df = spark.read.csv('customer_churn.csv', inferSchema=True, header=True) "
   ]
  },
  {
   "cell_type": "code",
   "execution_count": 60,
   "metadata": {},
   "outputs": [
    {
     "name": "stdout",
     "output_type": "stream",
     "text": [
      "root\n",
      " |-- Names: string (nullable = true)\n",
      " |-- Age: double (nullable = true)\n",
      " |-- Total_Purchase: double (nullable = true)\n",
      " |-- Account_Manager: integer (nullable = true)\n",
      " |-- Years: double (nullable = true)\n",
      " |-- Num_Sites: double (nullable = true)\n",
      " |-- Onboard_date: timestamp (nullable = true)\n",
      " |-- Location: string (nullable = true)\n",
      " |-- Company: string (nullable = true)\n",
      " |-- Churn: integer (nullable = true)\n",
      "\n"
     ]
    }
   ],
   "source": [
    "df.printSchema()"
   ]
  },
  {
   "cell_type": "markdown",
   "metadata": {},
   "source": [
    "**Total observation units**"
   ]
  },
  {
   "cell_type": "code",
   "execution_count": 61,
   "metadata": {},
   "outputs": [
    {
     "data": {
      "text/plain": [
       "900"
      ]
     },
     "execution_count": 61,
     "metadata": {},
     "output_type": "execute_result"
    }
   ],
   "source": [
    "df.count()"
   ]
  },
  {
   "cell_type": "markdown",
   "metadata": {},
   "source": [
    "**First row**"
   ]
  },
  {
   "cell_type": "code",
   "execution_count": 62,
   "metadata": {},
   "outputs": [
    {
     "data": {
      "text/plain": [
       "Row(Names='Cameron Williams', Age=42.0, Total_Purchase=11066.8, Account_Manager=0, Years=7.22, Num_Sites=8.0, Onboard_date=datetime.datetime(2013, 8, 30, 7, 0, 40), Location='10265 Elizabeth Mission Barkerburgh, AK 89518', Company='Harvey LLC', Churn=1)"
      ]
     },
     "execution_count": 62,
     "metadata": {},
     "output_type": "execute_result"
    }
   ],
   "source": [
    "df.head(1)[0]"
   ]
  },
  {
   "cell_type": "markdown",
   "metadata": {},
   "source": [
    "**Select columns that working on**"
   ]
  },
  {
   "cell_type": "code",
   "execution_count": 63,
   "metadata": {},
   "outputs": [
    {
     "data": {
      "text/plain": [
       "['Names',\n",
       " 'Age',\n",
       " 'Total_Purchase',\n",
       " 'Account_Manager',\n",
       " 'Years',\n",
       " 'Num_Sites',\n",
       " 'Onboard_date',\n",
       " 'Location',\n",
       " 'Company',\n",
       " 'Churn']"
      ]
     },
     "execution_count": 63,
     "metadata": {},
     "output_type": "execute_result"
    }
   ],
   "source": [
    "df.columns"
   ]
  },
  {
   "cell_type": "markdown",
   "metadata": {},
   "source": [
    "**Parse onboard_date and add data as column**"
   ]
  },
  {
   "cell_type": "code",
   "execution_count": 64,
   "metadata": {},
   "outputs": [
    {
     "name": "stdout",
     "output_type": "stream",
     "text": [
      "root\n",
      " |-- Names: string (nullable = true)\n",
      " |-- Age: double (nullable = true)\n",
      " |-- Total_Purchase: double (nullable = true)\n",
      " |-- Account_Manager: integer (nullable = true)\n",
      " |-- Years: double (nullable = true)\n",
      " |-- Num_Sites: double (nullable = true)\n",
      " |-- Onboard_date: timestamp (nullable = true)\n",
      " |-- Location: string (nullable = true)\n",
      " |-- Company: string (nullable = true)\n",
      " |-- Churn: integer (nullable = true)\n",
      " |-- Onboard_year: integer (nullable = true)\n",
      " |-- Onboard_month: integer (nullable = true)\n",
      " |-- Onboard_date_: integer (nullable = true)\n",
      " |-- Onboard_hour: integer (nullable = true)\n",
      "\n"
     ]
    }
   ],
   "source": [
    "new_df = df.withColumns({\n",
    "    'Onboard_year': year(df['Onboard_date']),\n",
    "    'Onboard_month': month(df['Onboard_date']),\n",
    "    'Onboard_date_': dayofmonth(df['Onboard_date']),\n",
    "    'Onboard_hour': hour(df['Onboard_date'])\n",
    "})\n",
    "new_df.printSchema()"
   ]
  },
  {
   "cell_type": "markdown",
   "metadata": {},
   "source": [
    "**Select columns**"
   ]
  },
  {
   "cell_type": "code",
   "execution_count": 66,
   "metadata": {},
   "outputs": [],
   "source": [
    "my_col = new_df.select(['Age',\n",
    "                    'Total_Purchase',\n",
    "                    'Account_Manager',\n",
    "                    'Years',\n",
    "                    'Num_Sites',\n",
    "                    'Churn',\n",
    "                    'Onboard_year',\n",
    "                    'Onboard_month',\n",
    "                    'Onboard_date_',\n",
    "                    'Onboard_hour'])"
   ]
  },
  {
   "cell_type": "code",
   "execution_count": 67,
   "metadata": {},
   "outputs": [
    {
     "name": "stdout",
     "output_type": "stream",
     "text": [
      "+----+--------------+---------------+-----+---------+-----+------------+-------------+-------------+------------+\n",
      "| Age|Total_Purchase|Account_Manager|Years|Num_Sites|Churn|Onboard_year|Onboard_month|Onboard_date_|Onboard_hour|\n",
      "+----+--------------+---------------+-----+---------+-----+------------+-------------+-------------+------------+\n",
      "|42.0|       11066.8|              0| 7.22|      8.0|    1|        2013|            8|           30|           7|\n",
      "|41.0|      11916.22|              0|  6.5|     11.0|    1|        2013|            8|           13|           0|\n",
      "|38.0|      12884.75|              0| 6.67|     12.0|    1|        2016|            6|           29|           6|\n",
      "|42.0|       8010.76|              0| 6.71|     10.0|    1|        2014|            4|           22|          12|\n",
      "|37.0|       9191.58|              0| 5.56|      9.0|    1|        2016|            1|           19|          15|\n",
      "|48.0|      10356.02|              0| 5.12|      8.0|    1|        2009|            3|            3|          23|\n",
      "|44.0|      11331.58|              1| 5.23|     11.0|    1|        2016|           12|            5|           3|\n",
      "|32.0|       9885.12|              1| 6.92|      9.0|    1|        2006|            3|            9|          14|\n",
      "|43.0|       14062.6|              1| 5.46|     11.0|    1|        2011|            9|           29|           5|\n",
      "|40.0|       8066.94|              1| 7.11|     11.0|    1|        2006|            3|           28|          15|\n",
      "|30.0|      11575.37|              1| 5.22|      8.0|    1|        2016|           11|           13|          13|\n",
      "|45.0|       8771.02|              1| 6.64|     11.0|    1|        2015|            5|           28|          12|\n",
      "|45.0|       8988.67|              1| 4.84|     11.0|    1|        2011|            2|           16|           8|\n",
      "|40.0|       8283.32|              1|  5.1|     13.0|    1|        2012|           11|           22|           5|\n",
      "|41.0|       6569.87|              1|  4.3|     11.0|    1|        2015|            3|           28|           2|\n",
      "|38.0|      10494.82|              1| 6.81|     12.0|    1|        2015|            7|           22|           8|\n",
      "|45.0|       8213.41|              1| 7.35|     11.0|    1|        2006|            9|            3|           6|\n",
      "|43.0|      11226.88|              0| 8.08|     12.0|    1|        2006|           10|           22|           4|\n",
      "|53.0|       5515.09|              0| 6.85|      8.0|    1|        2015|           10|            7|           0|\n",
      "|46.0|        8046.4|              1| 5.69|      8.0|    1|        2014|           11|            6|          23|\n",
      "+----+--------------+---------------+-----+---------+-----+------------+-------------+-------------+------------+\n",
      "only showing top 20 rows\n",
      "\n"
     ]
    }
   ],
   "source": [
    "my_col.show()"
   ]
  },
  {
   "cell_type": "markdown",
   "metadata": {},
   "source": [
    "**Check missing value and delete them**"
   ]
  },
  {
   "cell_type": "code",
   "execution_count": 68,
   "metadata": {},
   "outputs": [
    {
     "name": "stdout",
     "output_type": "stream",
     "text": [
      "+---+--------------+---------------+-----+---------+-----+------------+-------------+-------------+------------+\n",
      "|Age|Total_Purchase|Account_Manager|Years|Num_Sites|Churn|Onboard_year|Onboard_month|Onboard_date_|Onboard_hour|\n",
      "+---+--------------+---------------+-----+---------+-----+------------+-------------+-------------+------------+\n",
      "|  0|             0|              0|    0|        0|    0|           0|            0|            0|           0|\n",
      "+---+--------------+---------------+-----+---------+-----+------------+-------------+-------------+------------+\n",
      "\n"
     ]
    }
   ],
   "source": [
    "my_col.select([count(when(isnan(c) | col(c).isNull(), c)).alias(c) for c in my_col.columns]).show()"
   ]
  },
  {
   "cell_type": "markdown",
   "metadata": {},
   "source": [
    "There is no missing value in our data. That's good!"
   ]
  },
  {
   "cell_type": "markdown",
   "metadata": {},
   "source": [
    "**Assembler and final data**"
   ]
  },
  {
   "cell_type": "code",
   "execution_count": 84,
   "metadata": {},
   "outputs": [],
   "source": [
    "assembler = VectorAssembler(inputCols=['Age',\n",
    "                                        'Total_Purchase',\n",
    "                                        'Account_Manager',\n",
    "                                        'Years',\n",
    "                                        'Num_Sites',\n",
    "                                        'Onboard_year',\n",
    "                                        'Onboard_month',\n",
    "                                        'Onboard_date_',\n",
    "                                        'Onboard_hour'], outputCol='features')"
   ]
  },
  {
   "cell_type": "code",
   "execution_count": 85,
   "metadata": {},
   "outputs": [],
   "source": [
    "output = assembler.transform(my_col)"
   ]
  },
  {
   "cell_type": "code",
   "execution_count": 86,
   "metadata": {},
   "outputs": [
    {
     "data": {
      "text/plain": [
       "[Row(Age=42.0, Total_Purchase=11066.8, Account_Manager=0, Years=7.22, Num_Sites=8.0, Churn=1, Onboard_year=2013, Onboard_month=8, Onboard_date_=30, Onboard_hour=7, features=DenseVector([42.0, 11066.8, 0.0, 7.22, 8.0, 2013.0, 8.0, 30.0, 7.0]))]"
      ]
     },
     "execution_count": 86,
     "metadata": {},
     "output_type": "execute_result"
    }
   ],
   "source": [
    "output.head(1)"
   ]
  },
  {
   "cell_type": "code",
   "execution_count": 87,
   "metadata": {},
   "outputs": [],
   "source": [
    "final_data = output.select('Churn', 'features')"
   ]
  },
  {
   "cell_type": "code",
   "execution_count": 88,
   "metadata": {},
   "outputs": [
    {
     "name": "stdout",
     "output_type": "stream",
     "text": [
      "+-----+--------------------+\n",
      "|Churn|            features|\n",
      "+-----+--------------------+\n",
      "|    1|[42.0,11066.8,0.0...|\n",
      "|    1|[41.0,11916.22,0....|\n",
      "|    1|[38.0,12884.75,0....|\n",
      "|    1|[42.0,8010.76,0.0...|\n",
      "|    1|[37.0,9191.58,0.0...|\n",
      "|    1|[48.0,10356.02,0....|\n",
      "|    1|[44.0,11331.58,1....|\n",
      "|    1|[32.0,9885.12,1.0...|\n",
      "|    1|[43.0,14062.6,1.0...|\n",
      "|    1|[40.0,8066.94,1.0...|\n",
      "|    1|[30.0,11575.37,1....|\n",
      "|    1|[45.0,8771.02,1.0...|\n",
      "|    1|[45.0,8988.67,1.0...|\n",
      "|    1|[40.0,8283.32,1.0...|\n",
      "|    1|[41.0,6569.87,1.0...|\n",
      "|    1|[38.0,10494.82,1....|\n",
      "|    1|[45.0,8213.41,1.0...|\n",
      "|    1|[43.0,11226.88,0....|\n",
      "|    1|[53.0,5515.09,0.0...|\n",
      "|    1|[46.0,8046.4,1.0,...|\n",
      "+-----+--------------------+\n",
      "only showing top 20 rows\n",
      "\n"
     ]
    }
   ],
   "source": [
    "final_data.show()"
   ]
  },
  {
   "cell_type": "markdown",
   "metadata": {},
   "source": [
    "**Split data to train and test**"
   ]
  },
  {
   "cell_type": "code",
   "execution_count": 89,
   "metadata": {},
   "outputs": [],
   "source": [
    "train_data, test_data = final_data.randomSplit([0.7, 0.3])"
   ]
  },
  {
   "cell_type": "markdown",
   "metadata": {},
   "source": [
    "**Model**"
   ]
  },
  {
   "cell_type": "code",
   "execution_count": 90,
   "metadata": {},
   "outputs": [],
   "source": [
    "log_model = LogisticRegression(labelCol='Churn')"
   ]
  },
  {
   "cell_type": "code",
   "execution_count": 92,
   "metadata": {},
   "outputs": [],
   "source": [
    "logModel = log_model.fit(train_data)"
   ]
  },
  {
   "cell_type": "code",
   "execution_count": 98,
   "metadata": {},
   "outputs": [
    {
     "name": "stdout",
     "output_type": "stream",
     "text": [
      "+-----+--------------------+--------------------+--------------------+----------+\n",
      "|Churn|            features|       rawPrediction|         probability|prediction|\n",
      "+-----+--------------------+--------------------+--------------------+----------+\n",
      "|  0.0|[25.0,9672.03,0.0...|[4.99159546311291...|[0.99325104295144...|       0.0|\n",
      "|  0.0|[26.0,8939.61,0.0...|[6.12686233006000...|[0.99782133586242...|       0.0|\n",
      "|  0.0|[27.0,8628.8,1.0,...|[5.71512583390827...|[0.99671509041381...|       0.0|\n",
      "|  0.0|[28.0,8670.98,0.0...|[7.60658937289954...|[0.99950308243656...|       0.0|\n",
      "|  0.0|[28.0,9090.43,1.0...|[1.63477601229130...|[0.83682285456359...|       0.0|\n",
      "|  0.0|[28.0,11245.38,0....|[3.45196315406739...|[0.96928963219209...|       0.0|\n",
      "|  0.0|[29.0,5900.78,1.0...|[3.85050948608983...|[0.97917404757675...|       0.0|\n",
      "|  0.0|[29.0,9378.24,0.0...|[4.71679690272487...|[0.99113550161241...|       0.0|\n",
      "|  0.0|[29.0,9617.59,0.0...|[4.67722589906544...|[0.99078099040813...|       0.0|\n",
      "|  0.0|[29.0,11274.46,1....|[4.67331275685799...|[0.99074517896104...|       0.0|\n",
      "|  0.0|[29.0,12711.15,0....|[5.13264131729741...|[0.99413366339935...|       0.0|\n",
      "|  0.0|[29.0,13240.01,1....|[6.72775612486960...|[0.99880421526262...|       0.0|\n",
      "|  0.0|[30.0,6744.87,0.0...|[3.78642659075518...|[0.97782633134690...|       0.0|\n",
      "|  0.0|[30.0,8403.78,1.0...|[5.82678604081193...|[0.99706112739945...|       0.0|\n",
      "|  0.0|[30.0,8874.83,0.0...|[2.90526873764186...|[0.94810627571410...|       0.0|\n",
      "|  0.0|[30.0,10183.98,1....|[2.96443218023345...|[0.95094117797737...|       0.0|\n",
      "|  0.0|[30.0,10960.52,1....|[2.63509843225243...|[0.93308657895153...|       0.0|\n",
      "|  0.0|[31.0,5304.6,0.0,...|[3.55015107249628...|[0.97208152646970...|       0.0|\n",
      "|  0.0|[31.0,5387.75,0.0...|[2.62269647378057...|[0.93230807864307...|       0.0|\n",
      "|  0.0|[31.0,8688.21,0.0...|[6.54831177959887...|[0.99856951722457...|       0.0|\n",
      "+-----+--------------------+--------------------+--------------------+----------+\n",
      "only showing top 20 rows\n",
      "\n"
     ]
    }
   ],
   "source": [
    "train_summary = logModel.summary\n",
    "train_summary.predictions.show()"
   ]
  },
  {
   "cell_type": "code",
   "execution_count": 100,
   "metadata": {},
   "outputs": [
    {
     "name": "stdout",
     "output_type": "stream",
     "text": [
      "+-------+-------------------+-------------------+\n",
      "|summary|              Churn|         prediction|\n",
      "+-------+-------------------+-------------------+\n",
      "|  count|                613|                613|\n",
      "|   mean|0.16639477977161501|0.12234910277324633|\n",
      "| stddev| 0.3727387870498555| 0.3279561815442461|\n",
      "|    min|                0.0|                0.0|\n",
      "|    max|                1.0|                1.0|\n",
      "+-------+-------------------+-------------------+\n",
      "\n"
     ]
    }
   ],
   "source": [
    "train_summary.predictions.describe().show()"
   ]
  },
  {
   "cell_type": "markdown",
   "metadata": {},
   "source": [
    "**Model Evaluation**"
   ]
  },
  {
   "cell_type": "code",
   "execution_count": 102,
   "metadata": {},
   "outputs": [],
   "source": [
    "my_eval = BinaryClassificationEvaluator(rawPredictionCol='predictions', labelCol='Churn')"
   ]
  },
  {
   "cell_type": "code",
   "execution_count": 105,
   "metadata": {},
   "outputs": [],
   "source": [
    "predictions_and_labels = logModel.evaluate(test_data)"
   ]
  },
  {
   "cell_type": "code",
   "execution_count": 107,
   "metadata": {},
   "outputs": [
    {
     "name": "stdout",
     "output_type": "stream",
     "text": [
      "+-----+--------------------+--------------------+--------------------+----------+\n",
      "|Churn|            features|       rawPrediction|         probability|prediction|\n",
      "+-----+--------------------+--------------------+--------------------+----------+\n",
      "|    0|[22.0,11254.38,1....|[4.61578065526162...|[0.99020248485289...|       0.0|\n",
      "|    0|[28.0,11128.95,1....|[4.14919280362649...|[0.98446790552965...|       0.0|\n",
      "|    0|[28.0,11204.23,0....|[1.59750311826551...|[0.83166912211339...|       0.0|\n",
      "|    0|[29.0,10203.18,1....|[4.02739875045701...|[0.98249138879668...|       0.0|\n",
      "|    0|[29.0,13255.05,1....|[4.40851142336361...|[0.98797312091721...|       0.0|\n",
      "|    0|[30.0,8677.28,1.0...|[3.63984631637689...|[0.97441538062743...|       0.0|\n",
      "|    0|[30.0,12788.37,0....|[2.26606107855388...|[0.90602695560676...|       0.0|\n",
      "|    0|[30.0,13473.35,0....|[2.71940137546835...|[0.93816181410614...|       0.0|\n",
      "|    0|[31.0,7073.61,0.0...|[2.75304048290439...|[0.94008483537989...|       0.0|\n",
      "|    0|[31.0,8829.83,1.0...|[4.64672610651918...|[0.99049819352477...|       0.0|\n",
      "|    0|[31.0,10182.6,1.0...|[4.82580221378295...|[0.99204369307563...|       0.0|\n",
      "|    0|[31.0,12264.68,1....|[3.76935482929284...|[0.97745314633242...|       0.0|\n",
      "|    0|[32.0,5756.12,0.0...|[4.31348508156487...|[0.98679002540955...|       0.0|\n",
      "|    0|[32.0,8011.38,0.0...|[1.72926529704636...|[0.84931841956652...|       0.0|\n",
      "|    0|[32.0,9036.27,0.0...|[-0.5586933765475...|[0.36384984104222...|       1.0|\n",
      "|    0|[32.0,12547.91,0....|[-0.2496506294953...|[0.43790949297004...|       1.0|\n",
      "|    0|[33.0,5738.82,0.0...|[4.20584349241647...|[0.98531078404892...|       0.0|\n",
      "|    0|[33.0,7720.61,1.0...|[1.91187004858787...|[0.87122909234758...|       0.0|\n",
      "|    0|[33.0,7750.54,1.0...|[4.31365276565944...|[0.98679221107232...|       0.0|\n",
      "|    0|[33.0,10709.39,1....|[6.48560953306422...|[0.99847709198157...|       0.0|\n",
      "+-----+--------------------+--------------------+--------------------+----------+\n",
      "only showing top 20 rows\n",
      "\n"
     ]
    }
   ],
   "source": [
    "predictions_and_labels.predictions.show()"
   ]
  },
  {
   "cell_type": "code",
   "execution_count": 108,
   "metadata": {},
   "outputs": [
    {
     "name": "stdout",
     "output_type": "stream",
     "text": [
      "+-------+-------------------+-------------------+\n",
      "|summary|              Churn|         prediction|\n",
      "+-------+-------------------+-------------------+\n",
      "|  count|                287|                287|\n",
      "|   mean| 0.1672473867595819|0.13588850174216027|\n",
      "| stddev|0.37384846709334274|0.34326867920925896|\n",
      "|    min|                  0|                0.0|\n",
      "|    max|                  1|                1.0|\n",
      "+-------+-------------------+-------------------+\n",
      "\n"
     ]
    }
   ],
   "source": [
    "predictions_and_labels.predictions.describe().show()"
   ]
  },
  {
   "cell_type": "markdown",
   "metadata": {},
   "source": [
    "**Roc auc**"
   ]
  },
  {
   "cell_type": "code",
   "execution_count": 110,
   "metadata": {},
   "outputs": [],
   "source": [
    "churn_eval = BinaryClassificationEvaluator(rawPredictionCol='prediction', labelCol='Churn')"
   ]
  },
  {
   "cell_type": "code",
   "execution_count": 111,
   "metadata": {},
   "outputs": [],
   "source": [
    "auc = churn_eval.evaluate(predictions_and_labels.predictions)"
   ]
  },
  {
   "cell_type": "code",
   "execution_count": 113,
   "metadata": {},
   "outputs": [
    {
     "data": {
      "text/plain": [
       "0.7561453974895397"
      ]
     },
     "execution_count": 113,
     "metadata": {},
     "output_type": "execute_result"
    }
   ],
   "source": [
    "auc"
   ]
  },
  {
   "cell_type": "markdown",
   "metadata": {},
   "source": [
    "**Predict on brand new unlabeled data**"
   ]
  },
  {
   "cell_type": "code",
   "execution_count": 174,
   "metadata": {},
   "outputs": [],
   "source": [
    "new_customer = spark.read.csv('new_customers.csv', inferSchema=True, header=True)"
   ]
  },
  {
   "cell_type": "code",
   "execution_count": 175,
   "metadata": {},
   "outputs": [
    {
     "data": {
      "text/plain": [
       "6"
      ]
     },
     "execution_count": 175,
     "metadata": {},
     "output_type": "execute_result"
    }
   ],
   "source": [
    "new_customer.count()"
   ]
  },
  {
   "cell_type": "code",
   "execution_count": 176,
   "metadata": {},
   "outputs": [
    {
     "name": "stdout",
     "output_type": "stream",
     "text": [
      "root\n",
      " |-- Names: string (nullable = true)\n",
      " |-- Age: double (nullable = true)\n",
      " |-- Total_Purchase: double (nullable = true)\n",
      " |-- Account_Manager: integer (nullable = true)\n",
      " |-- Years: double (nullable = true)\n",
      " |-- Num_Sites: double (nullable = true)\n",
      " |-- Onboard_date: timestamp (nullable = true)\n",
      " |-- Location: string (nullable = true)\n",
      " |-- Company: string (nullable = true)\n",
      "\n"
     ]
    }
   ],
   "source": [
    "new_customer.printSchema()"
   ]
  },
  {
   "cell_type": "code",
   "execution_count": 177,
   "metadata": {},
   "outputs": [
    {
     "name": "stdout",
     "output_type": "stream",
     "text": [
      "Row(Names='Andrew Mccall', Age=37.0, Total_Purchase=9935.53, Account_Manager=1, Years=7.71, Num_Sites=8.0, Onboard_date=datetime.datetime(2011, 8, 29, 18, 37, 54), Location='38612 Johnny Stravenue Nataliebury, WI 15717-8316', Company='King Ltd')\n",
      "\n",
      "\n",
      "Row(Names='Michele Wright', Age=23.0, Total_Purchase=7526.94, Account_Manager=1, Years=9.28, Num_Sites=15.0, Onboard_date=datetime.datetime(2013, 7, 22, 18, 19, 54), Location='21083 Nicole Junction Suite 332, Youngport, ME 23686-4381', Company='Cannon-Benson')\n",
      "\n",
      "\n",
      "Row(Names='Jeremy Chang', Age=65.0, Total_Purchase=100.0, Account_Manager=1, Years=1.0, Num_Sites=15.0, Onboard_date=datetime.datetime(2006, 12, 11, 7, 48, 13), Location='085 Austin Views Lake Julialand, WY 63726-4298', Company='Barron-Robertson')\n",
      "\n",
      "\n",
      "Row(Names='Megan Ferguson', Age=32.0, Total_Purchase=6487.5, Account_Manager=0, Years=9.4, Num_Sites=14.0, Onboard_date=datetime.datetime(2016, 10, 28, 5, 32, 13), Location='922 Wright Branch North Cynthialand, NC 64721', Company='Sexton-Golden')\n",
      "\n",
      "\n",
      "Row(Names='Taylor Young', Age=32.0, Total_Purchase=13147.71, Account_Manager=1, Years=10.0, Num_Sites=8.0, Onboard_date=datetime.datetime(2012, 3, 20, 0, 36, 46), Location='Unit 0789 Box 0734 DPO AP 39702', Company='Wood LLC')\n",
      "\n",
      "\n",
      "Row(Names='Jessica Drake', Age=22.0, Total_Purchase=8445.26, Account_Manager=1, Years=3.46, Num_Sites=14.0, Onboard_date=datetime.datetime(2011, 2, 4, 19, 29, 27), Location='1148 Tina Stravenue Apt. 978 South Carlos TX 21222 9221', Company='Parks-Robbins')\n",
      "\n",
      "\n"
     ]
    }
   ],
   "source": [
    "for customer in new_customer.head(6):\n",
    "    print(customer)\n",
    "    print('\\n')"
   ]
  },
  {
   "cell_type": "code",
   "execution_count": 180,
   "metadata": {},
   "outputs": [
    {
     "name": "stdout",
     "output_type": "stream",
     "text": [
      "root\n",
      " |-- Names: string (nullable = true)\n",
      " |-- Age: double (nullable = true)\n",
      " |-- Total_Purchase: double (nullable = true)\n",
      " |-- Account_Manager: integer (nullable = true)\n",
      " |-- Years: double (nullable = true)\n",
      " |-- Num_Sites: double (nullable = true)\n",
      " |-- Onboard_date: timestamp (nullable = true)\n",
      " |-- Location: string (nullable = true)\n",
      " |-- Company: string (nullable = true)\n",
      " |-- Churn: integer (nullable = true)\n",
      " |-- Onboard_year: integer (nullable = true)\n",
      " |-- Onboard_month: integer (nullable = true)\n",
      " |-- Onboard_date_: integer (nullable = true)\n",
      " |-- Onboard_hour: integer (nullable = true)\n",
      "\n"
     ]
    }
   ],
   "source": [
    "new_customer = new_customer.withColumns({\n",
    "    'Onboard_year': year(new_customer['Onboard_date']),\n",
    "    'Onboard_month': month(new_customer['Onboard_date']),\n",
    "    'Onboard_date_': dayofmonth(new_customer['Onboard_date']),\n",
    "    'Onboard_hour': hour(new_customer['Onboard_date'])\n",
    "})\n",
    "new_df.printSchema()"
   ]
  },
  {
   "cell_type": "code",
   "execution_count": 182,
   "metadata": {},
   "outputs": [],
   "source": [
    "test_new_customers = assembler.transform(new_customer)"
   ]
  },
  {
   "cell_type": "code",
   "execution_count": 183,
   "metadata": {},
   "outputs": [],
   "source": [
    "final_results = logModel.transform(test_new_customers)"
   ]
  },
  {
   "cell_type": "code",
   "execution_count": 185,
   "metadata": {},
   "outputs": [
    {
     "name": "stdout",
     "output_type": "stream",
     "text": [
      "+----------------+----------+\n",
      "|         Company|prediction|\n",
      "+----------------+----------+\n",
      "|        King Ltd|       0.0|\n",
      "|   Cannon-Benson|       1.0|\n",
      "|Barron-Robertson|       1.0|\n",
      "|   Sexton-Golden|       1.0|\n",
      "|        Wood LLC|       0.0|\n",
      "|   Parks-Robbins|       1.0|\n",
      "+----------------+----------+\n",
      "\n"
     ]
    }
   ],
   "source": [
    "final_results.select('Company','prediction').show()"
   ]
  }
 ],
 "metadata": {
  "anaconda-cloud": {},
  "kernelspec": {
   "display_name": "Python 3 (ipykernel)",
   "language": "python",
   "name": "python3"
  },
  "language_info": {
   "codemirror_mode": {
    "name": "ipython",
    "version": 3
   },
   "file_extension": ".py",
   "mimetype": "text/x-python",
   "name": "python",
   "nbconvert_exporter": "python",
   "pygments_lexer": "ipython3",
   "version": "3.10.6"
  }
 },
 "nbformat": 4,
 "nbformat_minor": 1
}
